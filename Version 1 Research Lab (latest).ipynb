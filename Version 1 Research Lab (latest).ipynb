{
 "cells": [
  {
   "cell_type": "code",
   "execution_count": 231,
   "metadata": {},
   "outputs": [],
   "source": [
    "import numpy as np\n",
    "import pandas as pd\n",
    "#import pyfolio as pf\n",
    "import timeit\n",
    "\n",
    "from sklearn.ensemble import RandomForestClassifier, BaggingClassifier\n",
    "from sklearn.tree import DecisionTreeClassifier\n",
    "from sklearn.model_selection import train_test_split\n",
    "from sklearn.metrics import roc_curve, classification_report, confusion_matrix, accuracy_score\n",
    "from sklearn.utils import resample\n",
    "from sklearn.utils import shuffle\n",
    "\n",
    "from sklearn.model_selection import cross_val_score\n",
    "from sklearn.model_selection import GridSearchCV, KFold, StratifiedKFold\n",
    "from mlfinlab.ensemble import SequentiallyBootstrappedBaggingClassifier\n",
    "from mlfinlab.sample_weights import get_weights_by_return, get_weights_by_time_decay\n",
    "from mlfinlab.features.fracdiff import frac_diff_ffd\n",
    "\n",
    "import matplotlib.pyplot as plt\n",
    "\n",
    "import ta\n",
    "\n",
    "from sklearn.metrics import f1_score\n",
    "\n",
    "import mlfinlab as ml\n",
    "%matplotlib inline"
   ]
  },
  {
   "cell_type": "markdown",
   "metadata": {},
   "source": [
    "# Import Data"
   ]
  },
  {
   "cell_type": "code",
   "execution_count": 102,
   "metadata": {},
   "outputs": [],
   "source": [
    "data = pd.read_csv(\"Volume_Clean/BTCUSD_volumebars_1000_timestamp.csv\")\n",
    "# Define TimeFrame\n",
    "data = data[(pd.to_datetime(data['timestamp'], errors='coerce').dt.year >= 2015) & (pd.to_datetime(data['timestamp'], errors='coerce').dt.year <= 2019)]\n",
    "data = data.dropna()\n",
    "data = data.reset_index(drop=True)\n",
    "data.index = pd.to_datetime(data['timestamp'])\n",
    "data = data.drop('timestamp', axis=1)\n",
    "data\n",
    "data = data.dropna()"
   ]
  },
  {
   "cell_type": "markdown",
   "metadata": {},
   "source": [
    "# Make Stationary"
   ]
  },
  {
   "cell_type": "code",
   "execution_count": 103,
   "metadata": {},
   "outputs": [
    {
     "data": {
      "text/html": [
       "<div>\n",
       "<style scoped>\n",
       "    .dataframe tbody tr th:only-of-type {\n",
       "        vertical-align: middle;\n",
       "    }\n",
       "\n",
       "    .dataframe tbody tr th {\n",
       "        vertical-align: top;\n",
       "    }\n",
       "\n",
       "    .dataframe thead th {\n",
       "        text-align: right;\n",
       "    }\n",
       "</style>\n",
       "<table border=\"1\" class=\"dataframe\">\n",
       "  <thead>\n",
       "    <tr style=\"text-align: right;\">\n",
       "      <th></th>\n",
       "      <th>open</th>\n",
       "      <th>high</th>\n",
       "      <th>low</th>\n",
       "      <th>close</th>\n",
       "      <th>volume</th>\n",
       "      <th>Adj Close_log</th>\n",
       "      <th>frac_diff</th>\n",
       "    </tr>\n",
       "    <tr>\n",
       "      <th>timestamp</th>\n",
       "      <th></th>\n",
       "      <th></th>\n",
       "      <th></th>\n",
       "      <th></th>\n",
       "      <th></th>\n",
       "      <th></th>\n",
       "      <th></th>\n",
       "    </tr>\n",
       "  </thead>\n",
       "  <tbody>\n",
       "    <tr>\n",
       "      <th>2015-01-05 02:00:37.000004</th>\n",
       "      <td>271.990000</td>\n",
       "      <td>273.500000</td>\n",
       "      <td>269.92</td>\n",
       "      <td>272.87</td>\n",
       "      <td>1004.036640</td>\n",
       "      <td>5.608995</td>\n",
       "      <td>0.140771</td>\n",
       "    </tr>\n",
       "    <tr>\n",
       "      <th>2015-01-05 02:04:19.000018</th>\n",
       "      <td>272.860000</td>\n",
       "      <td>278.000000</td>\n",
       "      <td>272.28</td>\n",
       "      <td>276.75</td>\n",
       "      <td>1009.833589</td>\n",
       "      <td>5.623115</td>\n",
       "      <td>0.150736</td>\n",
       "    </tr>\n",
       "    <tr>\n",
       "      <th>2015-01-05 02:11:13.000002</th>\n",
       "      <td>276.740000</td>\n",
       "      <td>278.000000</td>\n",
       "      <td>274.14</td>\n",
       "      <td>276.58</td>\n",
       "      <td>1007.179874</td>\n",
       "      <td>5.622500</td>\n",
       "      <td>0.140143</td>\n",
       "    </tr>\n",
       "    <tr>\n",
       "      <th>2015-01-05 02:21:33.000000</th>\n",
       "      <td>276.510000</td>\n",
       "      <td>278.000000</td>\n",
       "      <td>274.51</td>\n",
       "      <td>274.68</td>\n",
       "      <td>1000.216989</td>\n",
       "      <td>5.615607</td>\n",
       "      <td>0.131045</td>\n",
       "    </tr>\n",
       "    <tr>\n",
       "      <th>2015-01-05 02:33:44.000004</th>\n",
       "      <td>274.690000</td>\n",
       "      <td>277.400000</td>\n",
       "      <td>273.22</td>\n",
       "      <td>277.05</td>\n",
       "      <td>1000.577273</td>\n",
       "      <td>5.624198</td>\n",
       "      <td>0.142466</td>\n",
       "    </tr>\n",
       "    <tr>\n",
       "      <th>...</th>\n",
       "      <td>...</td>\n",
       "      <td>...</td>\n",
       "      <td>...</td>\n",
       "      <td>...</td>\n",
       "      <td>...</td>\n",
       "      <td>...</td>\n",
       "      <td>...</td>\n",
       "    </tr>\n",
       "    <tr>\n",
       "      <th>2019-09-23 06:33:32.372001</th>\n",
       "      <td>10067.000000</td>\n",
       "      <td>10098.000000</td>\n",
       "      <td>9887.10</td>\n",
       "      <td>9895.10</td>\n",
       "      <td>1000.407666</td>\n",
       "      <td>9.199795</td>\n",
       "      <td>0.197736</td>\n",
       "    </tr>\n",
       "    <tr>\n",
       "      <th>2019-09-23 14:24:29.992078</th>\n",
       "      <td>9900.000000</td>\n",
       "      <td>9990.887075</td>\n",
       "      <td>9810.00</td>\n",
       "      <td>9820.00</td>\n",
       "      <td>1004.581814</td>\n",
       "      <td>9.192176</td>\n",
       "      <td>0.199992</td>\n",
       "    </tr>\n",
       "    <tr>\n",
       "      <th>2019-09-23 14:56:14.924010</th>\n",
       "      <td>9820.000000</td>\n",
       "      <td>9980.000000</td>\n",
       "      <td>9712.00</td>\n",
       "      <td>9949.00</td>\n",
       "      <td>1000.565863</td>\n",
       "      <td>9.205227</td>\n",
       "      <td>0.219518</td>\n",
       "    </tr>\n",
       "    <tr>\n",
       "      <th>2019-09-23 21:03:55.160001</th>\n",
       "      <td>9950.181865</td>\n",
       "      <td>9977.000000</td>\n",
       "      <td>9750.00</td>\n",
       "      <td>9750.00</td>\n",
       "      <td>1000.914015</td>\n",
       "      <td>9.185023</td>\n",
       "      <td>0.193298</td>\n",
       "    </tr>\n",
       "    <tr>\n",
       "      <th>2019-09-23 22:24:06.574000</th>\n",
       "      <td>9750.000000</td>\n",
       "      <td>9835.900000</td>\n",
       "      <td>9650.00</td>\n",
       "      <td>9653.00</td>\n",
       "      <td>1000.053455</td>\n",
       "      <td>9.175024</td>\n",
       "      <td>0.194841</td>\n",
       "    </tr>\n",
       "  </tbody>\n",
       "</table>\n",
       "<p>46492 rows × 7 columns</p>\n",
       "</div>"
      ],
      "text/plain": [
       "                                    open          high      low    close  \\\n",
       "timestamp                                                                  \n",
       "2015-01-05 02:00:37.000004    271.990000    273.500000   269.92   272.87   \n",
       "2015-01-05 02:04:19.000018    272.860000    278.000000   272.28   276.75   \n",
       "2015-01-05 02:11:13.000002    276.740000    278.000000   274.14   276.58   \n",
       "2015-01-05 02:21:33.000000    276.510000    278.000000   274.51   274.68   \n",
       "2015-01-05 02:33:44.000004    274.690000    277.400000   273.22   277.05   \n",
       "...                                  ...           ...      ...      ...   \n",
       "2019-09-23 06:33:32.372001  10067.000000  10098.000000  9887.10  9895.10   \n",
       "2019-09-23 14:24:29.992078   9900.000000   9990.887075  9810.00  9820.00   \n",
       "2019-09-23 14:56:14.924010   9820.000000   9980.000000  9712.00  9949.00   \n",
       "2019-09-23 21:03:55.160001   9950.181865   9977.000000  9750.00  9750.00   \n",
       "2019-09-23 22:24:06.574000   9750.000000   9835.900000  9650.00  9653.00   \n",
       "\n",
       "                                 volume  Adj Close_log  frac_diff  \n",
       "timestamp                                                          \n",
       "2015-01-05 02:00:37.000004  1004.036640       5.608995   0.140771  \n",
       "2015-01-05 02:04:19.000018  1009.833589       5.623115   0.150736  \n",
       "2015-01-05 02:11:13.000002  1007.179874       5.622500   0.140143  \n",
       "2015-01-05 02:21:33.000000  1000.216989       5.615607   0.131045  \n",
       "2015-01-05 02:33:44.000004  1000.577273       5.624198   0.142466  \n",
       "...                                 ...            ...        ...  \n",
       "2019-09-23 06:33:32.372001  1000.407666       9.199795   0.197736  \n",
       "2019-09-23 14:24:29.992078  1004.581814       9.192176   0.199992  \n",
       "2019-09-23 14:56:14.924010  1000.565863       9.205227   0.219518  \n",
       "2019-09-23 21:03:55.160001  1000.914015       9.185023   0.193298  \n",
       "2019-09-23 22:24:06.574000  1000.053455       9.175024   0.194841  \n",
       "\n",
       "[46492 rows x 7 columns]"
      ]
     },
     "execution_count": 103,
     "metadata": {},
     "output_type": "execute_result"
    },
    {
     "data": {
      "image/png": "[encoded data removed]",
      "text/plain": [
       "<Figure size 432x288 with 1 Axes>"
      ]
     },
     "metadata": {
      "needs_background": "light"
     },
     "output_type": "display_data"
    }
   ],
   "source": [
    "\n",
    "data['Adj Close_log'] = np.log(data['close'])\n",
    "data['frac_diff'] = frac_diff_ffd(data[['Adj Close_log']], 0.6, thresh=1e-4)\n",
    "# data['Adj High_log'] = np.log(data['high'])\n",
    "# data['frac_diff_h'] = frac_diff_ffd(data[['Adj High_log']], 0.5, thresh=1e-3)\n",
    "# data['Adj Low_log'] = np.log(data['low'])\n",
    "# data['frac_diff_l'] = frac_diff_ffd(data[['Adj Low_log']], 0.5, thresh=1e-3)\n",
    "# data['Adj Open_log'] = np.log(data['open'])\n",
    "# data['frac_diff_o'] = frac_diff_ffd(data[['Adj Open_log']], 0.5, thresh=1e-3)\n",
    "\n",
    "data = data.dropna()\n",
    "data['frac_diff'].plot()\n",
    "data"
   ]
  },
  {
   "cell_type": "code",
   "execution_count": 104,
   "metadata": {},
   "outputs": [
    {
     "name": "stdout",
     "output_type": "stream",
     "text": [
      "Results of Dickey-Fuller Test:\n",
      "Test Statistic                    -2.841975\n",
      "p-value                            0.052524\n",
      "#Lags Used                        56.000000\n",
      "Number of Observations Used    46435.000000\n",
      "Critical Value (1%)               -3.430491\n",
      "Critical Value (5%)               -2.861602\n",
      "Critical Value (10%)              -2.566803\n",
      "dtype: float64\n"
     ]
    }
   ],
   "source": [
    "#define function for ADF test\n",
    "from statsmodels.tsa.stattools import adfuller\n",
    "def adf_test(timeseries):\n",
    "    #Perform Dickey-Fuller test:\n",
    "    print ('Results of Dickey-Fuller Test:')\n",
    "    dftest = adfuller(timeseries, autolag='AIC')\n",
    "    dfoutput = pd.Series(dftest[0:4], index=['Test Statistic','p-value','#Lags Used','Number of Observations Used'])\n",
    "    for key,value in dftest[4].items():\n",
    "       dfoutput['Critical Value (%s)'%key] = value\n",
    "    print (dfoutput)\n",
    "    \n",
    "adf_test(data['frac_diff'])"
   ]
  },
  {
   "cell_type": "markdown",
   "metadata": {},
   "source": [
    "# Add primary (dumb) signal; Change this part to edit primary model and run from here"
   ]
  },
  {
   "cell_type": "markdown",
   "metadata": {},
   "source": [
    "# #EMA"
   ]
  },
  {
   "cell_type": "code",
   "execution_count": 105,
   "metadata": {},
   "outputs": [],
   "source": [
    "data['ema25'] = ta.trend.ema_indicator(close=data[\"close\"], n=25)\n",
    "\n",
    "# Compute sides\n",
    "data['side'] = np.nan\n",
    "\n",
    "long_signals = data['close'] >= data['ema25'] \n",
    "short_signals = data['close'] < data['ema25']\n",
    "data.loc[long_signals, 'side'] = 1\n",
    "data.loc[short_signals, 'side'] = -1\n"
   ]
  },
  {
   "cell_type": "markdown",
   "metadata": {},
   "source": [
    "# MA crossover"
   ]
  },
  {
   "cell_type": "code",
   "execution_count": 106,
   "metadata": {},
   "outputs": [],
   "source": [
    "# # compute moving averages\n",
    "# fast_window = 10\n",
    "# slow_window = 20\n",
    "\n",
    "# data['fast_mavg'] = data['Adj Close_log'].rolling(window=fast_window, min_periods=fast_window, center=False).mean()\n",
    "# data['slow_mavg'] = data['Adj Close_log'].rolling(window=slow_window, min_periods=slow_window, center=False).mean()\n",
    "# data.head()\n",
    "\n",
    "# # Compute sides\n",
    "# data['side'] = np.nan\n",
    "\n",
    "# long_signals = data['fast_mavg'] >= data['slow_mavg'] \n",
    "# short_signals = data['fast_mavg'] < data['slow_mavg'] \n",
    "# data.loc[long_signals, 'side'] = 1\n",
    "# data.loc[short_signals, 'side'] = -1\n",
    "\n",
    "\n",
    "\n"
   ]
  },
  {
   "cell_type": "markdown",
   "metadata": {},
   "source": [
    "# Channel breakout"
   ]
  },
  {
   "cell_type": "code",
   "execution_count": 107,
   "metadata": {},
   "outputs": [],
   "source": [
    "# data['max'] = data['Adj Close_log'].shift(1).rolling(1).max()\n",
    "# data['min'] = data['Adj Close_log'].shift(1).rolling(1).min()\n",
    "# data['side'] = np.nan\n",
    "# long_signals = data['Adj Close_log'] >= data['max']\n",
    "# short_signals = data['Adj Close_log'] <= data['min']\n",
    "# data.loc[long_signals, 'side'] = 1\n",
    "# data.loc[short_signals, 'side'] = -1\n",
    "# data.fillna(method='ffill', inplace=True)"
   ]
  },
  {
   "cell_type": "markdown",
   "metadata": {},
   "source": [
    "---------------------------------------------------------------"
   ]
  },
  {
   "cell_type": "code",
   "execution_count": 108,
   "metadata": {},
   "outputs": [
    {
     "name": "stdout",
     "output_type": "stream",
     "text": [
      " 1.0    25229\n",
      "-1.0    21238\n",
      "Name: side, dtype: int64\n"
     ]
    }
   ],
   "source": [
    "# copy raw data\n",
    "raw_data = data.copy()\n",
    "\n",
    "data['side'] = data['side'].shift(1)\n",
    "data = data.dropna()\n",
    "print(data['side'].value_counts())"
   ]
  },
  {
   "cell_type": "code",
   "execution_count": 109,
   "metadata": {},
   "outputs": [
    {
     "data": {
      "text/html": [
       "<div>\n",
       "<style scoped>\n",
       "    .dataframe tbody tr th:only-of-type {\n",
       "        vertical-align: middle;\n",
       "    }\n",
       "\n",
       "    .dataframe tbody tr th {\n",
       "        vertical-align: top;\n",
       "    }\n",
       "\n",
       "    .dataframe thead th {\n",
       "        text-align: right;\n",
       "    }\n",
       "</style>\n",
       "<table border=\"1\" class=\"dataframe\">\n",
       "  <thead>\n",
       "    <tr style=\"text-align: right;\">\n",
       "      <th></th>\n",
       "      <th>open</th>\n",
       "      <th>high</th>\n",
       "      <th>low</th>\n",
       "      <th>close</th>\n",
       "      <th>volume</th>\n",
       "      <th>Adj Close_log</th>\n",
       "      <th>frac_diff</th>\n",
       "      <th>ema25</th>\n",
       "      <th>side</th>\n",
       "    </tr>\n",
       "    <tr>\n",
       "      <th>timestamp</th>\n",
       "      <th></th>\n",
       "      <th></th>\n",
       "      <th></th>\n",
       "      <th></th>\n",
       "      <th></th>\n",
       "      <th></th>\n",
       "      <th></th>\n",
       "      <th></th>\n",
       "      <th></th>\n",
       "    </tr>\n",
       "  </thead>\n",
       "  <tbody>\n",
       "    <tr>\n",
       "      <th>2015-01-05 16:03:53.000005</th>\n",
       "      <td>272.100000</td>\n",
       "      <td>272.930000</td>\n",
       "      <td>271.50</td>\n",
       "      <td>271.69</td>\n",
       "      <td>1004.990893</td>\n",
       "      <td>5.604662</td>\n",
       "      <td>0.126464</td>\n",
       "      <td>273.547018</td>\n",
       "      <td>-1.0</td>\n",
       "    </tr>\n",
       "    <tr>\n",
       "      <th>2015-01-05 17:19:17.000002</th>\n",
       "      <td>271.730000</td>\n",
       "      <td>273.750000</td>\n",
       "      <td>270.91</td>\n",
       "      <td>271.00</td>\n",
       "      <td>1004.826736</td>\n",
       "      <td>5.602119</td>\n",
       "      <td>0.126324</td>\n",
       "      <td>273.351094</td>\n",
       "      <td>-1.0</td>\n",
       "    </tr>\n",
       "    <tr>\n",
       "      <th>2015-01-05 17:30:18.000000</th>\n",
       "      <td>271.310000</td>\n",
       "      <td>271.910000</td>\n",
       "      <td>268.35</td>\n",
       "      <td>269.92</td>\n",
       "      <td>1000.568228</td>\n",
       "      <td>5.598126</td>\n",
       "      <td>0.124488</td>\n",
       "      <td>273.087163</td>\n",
       "      <td>-1.0</td>\n",
       "    </tr>\n",
       "    <tr>\n",
       "      <th>2015-01-05 17:50:55.000004</th>\n",
       "      <td>269.920000</td>\n",
       "      <td>269.990000</td>\n",
       "      <td>267.38</td>\n",
       "      <td>268.25</td>\n",
       "      <td>1001.699807</td>\n",
       "      <td>5.591919</td>\n",
       "      <td>0.121306</td>\n",
       "      <td>272.715074</td>\n",
       "      <td>-1.0</td>\n",
       "    </tr>\n",
       "    <tr>\n",
       "      <th>2015-01-05 17:54:21.000004</th>\n",
       "      <td>268.100000</td>\n",
       "      <td>268.760000</td>\n",
       "      <td>266.00</td>\n",
       "      <td>266.01</td>\n",
       "      <td>1281.015681</td>\n",
       "      <td>5.583534</td>\n",
       "      <td>0.117467</td>\n",
       "      <td>272.199299</td>\n",
       "      <td>-1.0</td>\n",
       "    </tr>\n",
       "    <tr>\n",
       "      <th>...</th>\n",
       "      <td>...</td>\n",
       "      <td>...</td>\n",
       "      <td>...</td>\n",
       "      <td>...</td>\n",
       "      <td>...</td>\n",
       "      <td>...</td>\n",
       "      <td>...</td>\n",
       "      <td>...</td>\n",
       "      <td>...</td>\n",
       "    </tr>\n",
       "    <tr>\n",
       "      <th>2019-09-23 06:33:32.372001</th>\n",
       "      <td>10067.000000</td>\n",
       "      <td>10098.000000</td>\n",
       "      <td>9887.10</td>\n",
       "      <td>9895.10</td>\n",
       "      <td>1000.407666</td>\n",
       "      <td>9.199795</td>\n",
       "      <td>0.197736</td>\n",
       "      <td>10091.019591</td>\n",
       "      <td>-1.0</td>\n",
       "    </tr>\n",
       "    <tr>\n",
       "      <th>2019-09-23 14:24:29.992078</th>\n",
       "      <td>9900.000000</td>\n",
       "      <td>9990.887075</td>\n",
       "      <td>9810.00</td>\n",
       "      <td>9820.00</td>\n",
       "      <td>1004.581814</td>\n",
       "      <td>9.192176</td>\n",
       "      <td>0.199992</td>\n",
       "      <td>10070.171930</td>\n",
       "      <td>-1.0</td>\n",
       "    </tr>\n",
       "    <tr>\n",
       "      <th>2019-09-23 14:56:14.924010</th>\n",
       "      <td>9820.000000</td>\n",
       "      <td>9980.000000</td>\n",
       "      <td>9712.00</td>\n",
       "      <td>9949.00</td>\n",
       "      <td>1000.565863</td>\n",
       "      <td>9.205227</td>\n",
       "      <td>0.219518</td>\n",
       "      <td>10060.851012</td>\n",
       "      <td>-1.0</td>\n",
       "    </tr>\n",
       "    <tr>\n",
       "      <th>2019-09-23 21:03:55.160001</th>\n",
       "      <td>9950.181865</td>\n",
       "      <td>9977.000000</td>\n",
       "      <td>9750.00</td>\n",
       "      <td>9750.00</td>\n",
       "      <td>1000.914015</td>\n",
       "      <td>9.185023</td>\n",
       "      <td>0.193298</td>\n",
       "      <td>10036.939396</td>\n",
       "      <td>-1.0</td>\n",
       "    </tr>\n",
       "    <tr>\n",
       "      <th>2019-09-23 22:24:06.574000</th>\n",
       "      <td>9750.000000</td>\n",
       "      <td>9835.900000</td>\n",
       "      <td>9650.00</td>\n",
       "      <td>9653.00</td>\n",
       "      <td>1000.053455</td>\n",
       "      <td>9.175024</td>\n",
       "      <td>0.194841</td>\n",
       "      <td>10007.405596</td>\n",
       "      <td>-1.0</td>\n",
       "    </tr>\n",
       "  </tbody>\n",
       "</table>\n",
       "<p>46467 rows × 9 columns</p>\n",
       "</div>"
      ],
      "text/plain": [
       "                                    open          high      low    close  \\\n",
       "timestamp                                                                  \n",
       "2015-01-05 16:03:53.000005    272.100000    272.930000   271.50   271.69   \n",
       "2015-01-05 17:19:17.000002    271.730000    273.750000   270.91   271.00   \n",
       "2015-01-05 17:30:18.000000    271.310000    271.910000   268.35   269.92   \n",
       "2015-01-05 17:50:55.000004    269.920000    269.990000   267.38   268.25   \n",
       "2015-01-05 17:54:21.000004    268.100000    268.760000   266.00   266.01   \n",
       "...                                  ...           ...      ...      ...   \n",
       "2019-09-23 06:33:32.372001  10067.000000  10098.000000  9887.10  9895.10   \n",
       "2019-09-23 14:24:29.992078   9900.000000   9990.887075  9810.00  9820.00   \n",
       "2019-09-23 14:56:14.924010   9820.000000   9980.000000  9712.00  9949.00   \n",
       "2019-09-23 21:03:55.160001   9950.181865   9977.000000  9750.00  9750.00   \n",
       "2019-09-23 22:24:06.574000   9750.000000   9835.900000  9650.00  9653.00   \n",
       "\n",
       "                                 volume  Adj Close_log  frac_diff  \\\n",
       "timestamp                                                           \n",
       "2015-01-05 16:03:53.000005  1004.990893       5.604662   0.126464   \n",
       "2015-01-05 17:19:17.000002  1004.826736       5.602119   0.126324   \n",
       "2015-01-05 17:30:18.000000  1000.568228       5.598126   0.124488   \n",
       "2015-01-05 17:50:55.000004  1001.699807       5.591919   0.121306   \n",
       "2015-01-05 17:54:21.000004  1281.015681       5.583534   0.117467   \n",
       "...                                 ...            ...        ...   \n",
       "2019-09-23 06:33:32.372001  1000.407666       9.199795   0.197736   \n",
       "2019-09-23 14:24:29.992078  1004.581814       9.192176   0.199992   \n",
       "2019-09-23 14:56:14.924010  1000.565863       9.205227   0.219518   \n",
       "2019-09-23 21:03:55.160001  1000.914015       9.185023   0.193298   \n",
       "2019-09-23 22:24:06.574000  1000.053455       9.175024   0.194841   \n",
       "\n",
       "                                   ema25  side  \n",
       "timestamp                                       \n",
       "2015-01-05 16:03:53.000005    273.547018  -1.0  \n",
       "2015-01-05 17:19:17.000002    273.351094  -1.0  \n",
       "2015-01-05 17:30:18.000000    273.087163  -1.0  \n",
       "2015-01-05 17:50:55.000004    272.715074  -1.0  \n",
       "2015-01-05 17:54:21.000004    272.199299  -1.0  \n",
       "...                                  ...   ...  \n",
       "2019-09-23 06:33:32.372001  10091.019591  -1.0  \n",
       "2019-09-23 14:24:29.992078  10070.171930  -1.0  \n",
       "2019-09-23 14:56:14.924010  10060.851012  -1.0  \n",
       "2019-09-23 21:03:55.160001  10036.939396  -1.0  \n",
       "2019-09-23 22:24:06.574000  10007.405596  -1.0  \n",
       "\n",
       "[46467 rows x 9 columns]"
      ]
     },
     "execution_count": 109,
     "metadata": {},
     "output_type": "execute_result"
    }
   ],
   "source": [
    "data"
   ]
  },
  {
   "cell_type": "markdown",
   "metadata": {},
   "source": [
    "# Cusum"
   ]
  },
  {
   "cell_type": "code",
   "execution_count": 110,
   "metadata": {},
   "outputs": [],
   "source": [
    "# Compute daily volatility\n",
    "daily_vol = ml.util.get_daily_vol(close=data['Adj Close_log'], lookback=20)\n",
    "\n",
    "# Apply Symmetric CUSUM Filter and get timestamps for events\n",
    "# Note: Only the CUSUM filter needs a point estimate for volatility\n",
    "cusum_events = ml.filters.cusum_filter(data['Adj Close_log'], threshold=daily_vol['2015-01-11':'2019-09-23'].mean()*0.5)\n",
    "\n",
    "# Compute vertical barrier\n",
    "vertical_barriers = ml.labeling.add_vertical_barrier(t_events=cusum_events, close=data['Adj Close_log'], num_days=5)\n"
   ]
  },
  {
   "cell_type": "code",
   "execution_count": 111,
   "metadata": {},
   "outputs": [
    {
     "name": "stderr",
     "output_type": "stream",
     "text": [
      "2020-04-02 11:36:05.388017 33.33% apply_pt_sl_on_t1 done after 0.09 minutes. Remaining 0.18 minutes.\r",
      "2020-04-02 11:36:05.399985 66.67% apply_pt_sl_on_t1 done after 0.09 minutes. Remaining 0.04 minutes.\r",
      "2020-04-02 11:36:05.443881 100.0% apply_pt_sl_on_t1 done after 0.09 minutes. Remaining 0.0 minutes.\n"
     ]
    }
   ],
   "source": [
    "pt_sl = [1, 2]\n",
    "min_ret = 0.005\n",
    "triple_barrier_events = ml.labeling.get_events(close=data['Adj Close_log'],\n",
    "                                               t_events=cusum_events,\n",
    "                                               pt_sl=pt_sl,\n",
    "                                               target=daily_vol,\n",
    "                                               min_ret=min_ret,\n",
    "                                               num_threads=3,\n",
    "                                               vertical_barrier_times=vertical_barriers,\n",
    "                                               side_prediction=data['side'])"
   ]
  },
  {
   "cell_type": "code",
   "execution_count": 112,
   "metadata": {},
   "outputs": [
    {
     "data": {
      "text/plain": [
       "-1.0    1073\n",
       " 1.0    1020\n",
       "Name: side, dtype: int64"
      ]
     },
     "execution_count": 112,
     "metadata": {},
     "output_type": "execute_result"
    }
   ],
   "source": [
    "labels = ml.labeling.get_bins(triple_barrier_events, data['close'])\n",
    "labels.side.value_counts()"
   ]
  },
  {
   "cell_type": "markdown",
   "metadata": {},
   "source": [
    "--------------------------------------------------------------"
   ]
  },
  {
   "cell_type": "markdown",
   "metadata": {},
   "source": [
    "\n",
    "## Results of Primary Model:\n",
    "What is the accuracy of predictions from the primary model (i.e., if the sec- ondary model does not filter the bets)? What are the precision, recall, and F1-scores?"
   ]
  },
  {
   "cell_type": "code",
   "execution_count": 113,
   "metadata": {},
   "outputs": [
    {
     "name": "stdout",
     "output_type": "stream",
     "text": [
      "              precision    recall  f1-score   support\n",
      "\n",
      "           0       0.00      0.00      0.00       765\n",
      "           1       0.63      1.00      0.78      1328\n",
      "\n",
      "    accuracy                           0.63      2093\n",
      "   macro avg       0.32      0.50      0.39      2093\n",
      "weighted avg       0.40      0.63      0.49      2093\n",
      "\n",
      "Confusion Matrix\n",
      "[[   0  765]\n",
      " [   0 1328]]\n",
      "\n",
      "Accuracy\n",
      "0.634495938843765\n"
     ]
    }
   ],
   "source": [
    "primary_forecast = pd.DataFrame(labels['bin'])\n",
    "primary_forecast['pred'] = 1\n",
    "primary_forecast.columns = ['actual', 'pred']\n",
    "\n",
    "# Performance Metrics\n",
    "actual = primary_forecast['actual']\n",
    "pred = primary_forecast['pred']\n",
    "print(classification_report(y_true=actual, y_pred=pred))\n",
    "\n",
    "print(\"Confusion Matrix\")\n",
    "print(confusion_matrix(actual, pred))\n",
    "\n",
    "print('')\n",
    "print(\"Accuracy\")\n",
    "print(accuracy_score(actual, pred))"
   ]
  },
  {
   "cell_type": "markdown",
   "metadata": {},
   "source": [
    "# Fit a (secondary) Meta Model; to determine bet size respectively"
   ]
  },
  {
   "cell_type": "markdown",
   "metadata": {},
   "source": [
    "#### Features"
   ]
  },
  {
   "cell_type": "code",
   "execution_count": 117,
   "metadata": {},
   "outputs": [],
   "source": [
    "# Momentum\n",
    "raw_data['mom1'] = raw_data['frac_diff'].pct_change(periods=1)\n",
    "raw_data['mom2'] = raw_data['frac_diff'].pct_change(periods=2)\n",
    "raw_data['mom3'] = raw_data['frac_diff'].pct_change(periods=3)\n",
    "raw_data['mom4'] = raw_data['frac_diff'].pct_change(periods=4)\n",
    "raw_data['mom5'] = raw_data['frac_diff'].pct_change(periods=5)\n",
    "\n",
    "# Volatility\n",
    "raw_data['volatility_50'] = raw_data['frac_diff'].rolling(window=50, min_periods=50, center=False).std()\n",
    "raw_data['volatility_31'] = raw_data['frac_diff'].rolling(window=31, min_periods=31, center=False).std()\n",
    "raw_data['volatility_15'] = raw_data['frac_diff'].rolling(window=15, min_periods=15, center=False).std()\n",
    "\n",
    "# Serial Correlation (Takes about 4 minutes)\n",
    "window_autocorr = 50\n",
    "\n",
    "raw_data['autocorr_1'] = raw_data['frac_diff'].rolling(window=window_autocorr, min_periods=window_autocorr, center=False).apply(lambda x: x.autocorr(lag=1), raw=False)\n",
    "raw_data['autocorr_2'] = raw_data['frac_diff'].rolling(window=window_autocorr, min_periods=window_autocorr, center=False).apply(lambda x: x.autocorr(lag=2), raw=False)\n",
    "raw_data['autocorr_3'] = raw_data['frac_diff'].rolling(window=window_autocorr, min_periods=window_autocorr, center=False).apply(lambda x: x.autocorr(lag=3), raw=False)\n",
    "raw_data['autocorr_4'] = raw_data['frac_diff'].rolling(window=window_autocorr, min_periods=window_autocorr, center=False).apply(lambda x: x.autocorr(lag=4), raw=False)\n",
    "raw_data['autocorr_5'] = raw_data['frac_diff'].rolling(window=window_autocorr, min_periods=window_autocorr, center=False).apply(lambda x: x.autocorr(lag=5), raw=False)\n",
    "\n",
    "# Get the various log -t returns\n",
    "raw_data['log_t1'] = raw_data['frac_diff'].shift(1)\n",
    "raw_data['log_t2'] = raw_data['frac_diff'].shift(2)\n",
    "raw_data['log_t3'] = raw_data['frac_diff'].shift(3)\n",
    "raw_data['log_t4'] = raw_data['frac_diff'].shift(4)\n",
    "raw_data['log_t5'] = raw_data['frac_diff'].shift(5)\n",
    "\n",
    "# Get various indicators\n",
    "raw_data['adx'] = ta.trend.adx(high=raw_data['high'],low=raw_data['low'],close=raw_data[\"close\"])\n",
    "raw_data['ema14'] = ta.trend.ema_indicator(close=raw_data[\"frac_diff\"], n=14)\n",
    "raw_data['ema5'] = ta.trend.ema_indicator(close=raw_data[\"frac_diff\"], n=5)\n",
    "raw_data['ema30'] = ta.trend.ema_indicator(close=raw_data[\"frac_diff\"], n=30)\n",
    "raw_data['ema90'] = ta.trend.ema_indicator(close=raw_data[\"frac_diff\"], n=90)\n",
    "\n",
    "raw_data['kama'] = ta.momentum.kama(close=raw_data[\"frac_diff\"])\n",
    "raw_data['roc'] = ta.momentum.roc(close=raw_data[\"frac_diff\"])\n",
    "raw_data['atr'] = ta.volatility.average_true_range(high=raw_data['high'], low=raw_data['low'], close=raw_data['close'])\n",
    "\n",
    "raw_data['percent_change'] = raw_data['frac_diff'].pct_change(periods=1)\n",
    "raw_data['percent_change'] = raw_data['frac_diff'].pct_change(periods=5)\n",
    "raw_data['percent_change'] = raw_data['frac_diff'].pct_change(periods=10)\n",
    "raw_data['ma'] = np.where(raw_data['frac_diff'] > raw_data['frac_diff'].rolling(3).mean(), 1 , 0)\n",
    "raw_data['ma2'] = np.where(raw_data['frac_diff'] > raw_data['frac_diff'].rolling(13).mean(), 1 , 0)\n",
    "raw_data['ma3'] = np.where(raw_data['frac_diff'] > raw_data['frac_diff'].rolling(50).mean(), 1 , 0)\n",
    "raw_data['max'] = raw_data['frac_diff'].shift(1).rolling(5).max()\n",
    "raw_data['min'] = raw_data['frac_diff'].shift(1).rolling(5).min()\n",
    "raw_data['maxBreak'] = np.where(raw_data['frac_diff'] > raw_data['max'], 1 ,0)\n",
    "raw_data['minBreak'] = np.where(raw_data['frac_diff'] < raw_data['min'], 1 ,0)"
   ]
  },
  {
   "cell_type": "code",
   "execution_count": 119,
   "metadata": {},
   "outputs": [],
   "source": [
    "raw_data['ema25'] = ta.trend.ema_indicator(close=raw_data[\"close\"], n=25)\n",
    "\n",
    "# Compute sides\n",
    "raw_data['side'] = np.nan\n",
    "\n",
    "long_signals = raw_data['close'] >= raw_data['ema25'] \n",
    "short_signals = raw_data['close'] < raw_data['ema25']\n",
    "raw_data.loc[long_signals, 'side'] = 1\n",
    "raw_data.loc[short_signals, 'side'] = -1"
   ]
  },
  {
   "cell_type": "code",
   "execution_count": 124,
   "metadata": {},
   "outputs": [],
   "source": [
    "# Remove look ahead bias\n",
    "raw_data = raw_data.shift(1)\n",
    "raw_data.dropna(inplace=True)"
   ]
  },
  {
   "cell_type": "markdown",
   "metadata": {},
   "source": [
    "### Now get the data at the specified events"
   ]
  },
  {
   "cell_type": "code",
   "execution_count": 129,
   "metadata": {},
   "outputs": [
    {
     "data": {
      "text/html": [
       "<div>\n",
       "<style scoped>\n",
       "    .dataframe tbody tr th:only-of-type {\n",
       "        vertical-align: middle;\n",
       "    }\n",
       "\n",
       "    .dataframe tbody tr th {\n",
       "        vertical-align: top;\n",
       "    }\n",
       "\n",
       "    .dataframe thead th {\n",
       "        text-align: right;\n",
       "    }\n",
       "</style>\n",
       "<table border=\"1\" class=\"dataframe\">\n",
       "  <thead>\n",
       "    <tr style=\"text-align: right;\">\n",
       "      <th></th>\n",
       "      <th>open</th>\n",
       "      <th>high</th>\n",
       "      <th>low</th>\n",
       "      <th>close</th>\n",
       "      <th>volume</th>\n",
       "      <th>Adj Close_log</th>\n",
       "      <th>frac_diff</th>\n",
       "      <th>ema25</th>\n",
       "      <th>side</th>\n",
       "      <th>mom1</th>\n",
       "      <th>...</th>\n",
       "      <th>roc</th>\n",
       "      <th>atr</th>\n",
       "      <th>percent_change</th>\n",
       "      <th>ma</th>\n",
       "      <th>ma2</th>\n",
       "      <th>ma3</th>\n",
       "      <th>max</th>\n",
       "      <th>min</th>\n",
       "      <th>maxBreak</th>\n",
       "      <th>minBreak</th>\n",
       "    </tr>\n",
       "    <tr>\n",
       "      <th>timestamp</th>\n",
       "      <th></th>\n",
       "      <th></th>\n",
       "      <th></th>\n",
       "      <th></th>\n",
       "      <th></th>\n",
       "      <th></th>\n",
       "      <th></th>\n",
       "      <th></th>\n",
       "      <th></th>\n",
       "      <th></th>\n",
       "      <th></th>\n",
       "      <th></th>\n",
       "      <th></th>\n",
       "      <th></th>\n",
       "      <th></th>\n",
       "      <th></th>\n",
       "      <th></th>\n",
       "      <th></th>\n",
       "      <th></th>\n",
       "      <th></th>\n",
       "      <th></th>\n",
       "    </tr>\n",
       "  </thead>\n",
       "  <tbody>\n",
       "    <tr>\n",
       "      <th>2019-09-23 22:24:06.574</th>\n",
       "      <td>9900.0</td>\n",
       "      <td>9990.887075</td>\n",
       "      <td>9810.0</td>\n",
       "      <td>9820.0</td>\n",
       "      <td>1004.581814</td>\n",
       "      <td>9.192176</td>\n",
       "      <td>0.199992</td>\n",
       "      <td>10070.17193</td>\n",
       "      <td>-1.0</td>\n",
       "      <td>0.011411</td>\n",
       "      <td>...</td>\n",
       "      <td>-20.049727</td>\n",
       "      <td>174.631967</td>\n",
       "      <td>-0.087965</td>\n",
       "      <td>0.0</td>\n",
       "      <td>0.0</td>\n",
       "      <td>0.0</td>\n",
       "      <td>0.221099</td>\n",
       "      <td>0.197736</td>\n",
       "      <td>0.0</td>\n",
       "      <td>0.0</td>\n",
       "    </tr>\n",
       "  </tbody>\n",
       "</table>\n",
       "<p>1 rows × 43 columns</p>\n",
       "</div>"
      ],
      "text/plain": [
       "                           open         high     low   close       volume  \\\n",
       "timestamp                                                                   \n",
       "2019-09-23 22:24:06.574  9900.0  9990.887075  9810.0  9820.0  1004.581814   \n",
       "\n",
       "                         Adj Close_log  frac_diff        ema25  side  \\\n",
       "timestamp                                                              \n",
       "2019-09-23 22:24:06.574       9.192176   0.199992  10070.17193  -1.0   \n",
       "\n",
       "                             mom1  ...        roc         atr  percent_change  \\\n",
       "timestamp                          ...                                          \n",
       "2019-09-23 22:24:06.574  0.011411  ... -20.049727  174.631967       -0.087965   \n",
       "\n",
       "                          ma  ma2  ma3       max       min  maxBreak  minBreak  \n",
       "timestamp                                                                       \n",
       "2019-09-23 22:24:06.574  0.0  0.0  0.0  0.221099  0.197736       0.0       0.0  \n",
       "\n",
       "[1 rows x 43 columns]"
      ]
     },
     "execution_count": 129,
     "metadata": {},
     "output_type": "execute_result"
    }
   ],
   "source": [
    "raw_data.tail(1)"
   ]
  },
  {
   "cell_type": "code",
   "execution_count": 127,
   "metadata": {},
   "outputs": [],
   "source": [
    "# Get features at event dates\n",
    "X = raw_data.loc[labels.index, :]\n",
    "\n",
    "# Drop unwanted columns\n",
    "# X.drop(['open', 'high', 'low', 'close', 'cum_vol', 'cum_dollar', 'cum_ticks','fast_mavg', 'slow_mavg',], axis=1, inplace=True)\n",
    "\n",
    "y = labels['bin']"
   ]
  },
  {
   "cell_type": "code",
   "execution_count": 128,
   "metadata": {},
   "outputs": [
    {
     "data": {
      "text/plain": [
       "1    1328\n",
       "0     765\n",
       "Name: bin, dtype: int64"
      ]
     },
     "execution_count": 128,
     "metadata": {},
     "output_type": "execute_result"
    }
   ],
   "source": [
    "y.value_counts()\n"
   ]
  },
  {
   "cell_type": "code",
   "execution_count": 130,
   "metadata": {},
   "outputs": [],
   "source": [
    "# Split data into training, validation and test sets\n",
    "X_training_validation = X['2015-01-11':'2019-09-23']\n",
    "y_training_validation = y['2015-01-11':'2019-09-23']\n",
    "X_train, X_validate, y_train, y_validate = train_test_split(X_training_validation, y_training_validation, test_size=0.25, shuffle=False)"
   ]
  },
  {
   "cell_type": "markdown",
   "metadata": {},
   "source": [
    "## Sample Weights"
   ]
  },
  {
   "cell_type": "code",
   "execution_count": 131,
   "metadata": {},
   "outputs": [
    {
     "name": "stderr",
     "output_type": "stream",
     "text": [
      "2020-04-02 12:05:56.010589 100.0% num_concurrent_events done after 0.08 minutes. Remaining 0.0 minutes.\n",
      "2020-04-02 12:06:01.695398 100.0% _apply_weight_by_return done after 0.08 minutes. Remaining 0.0 minutes.\n",
      "2020-04-02 12:06:07.481328 100.0% num_concurrent_events done after 0.09 minutes. Remaining 0.0 minutes.\n",
      "2020-04-02 12:06:12.826624 100.0% _get_average_uniqueness done after 0.07 minutes. Remaining 0.0 minutes.\n"
     ]
    }
   ],
   "source": [
    "return_based_sample_weights = get_weights_by_return(triple_barrier_events.loc[X_train.index], data.loc[X_train.index, 'close'])\n",
    "time_based_sample_weights = get_weights_by_time_decay(triple_barrier_events.loc[X_train.index], data.loc[X_train.index, 'close'], decay=0.5)"
   ]
  },
  {
   "cell_type": "code",
   "execution_count": 132,
   "metadata": {},
   "outputs": [
    {
     "data": {
      "image/png": "[encoded data removed]",
      "text/plain": [
       "<Figure size 1440x720 with 1 Axes>"
      ]
     },
     "metadata": {
      "needs_background": "light"
     },
     "output_type": "display_data"
    }
   ],
   "source": [
    "plt.figure(figsize=(20,10))\n",
    "plt.title('Returns/Concurrency based sample weights')\n",
    "return_based_sample_weights.reset_index()[0].plot()\n",
    "plt.show()"
   ]
  },
  {
   "cell_type": "code",
   "execution_count": 133,
   "metadata": {},
   "outputs": [
    {
     "data": {
      "image/png": "[encoded data removed]",
      "text/plain": [
       "<Figure size 1080x720 with 1 Axes>"
      ]
     },
     "metadata": {
      "needs_background": "light"
     },
     "output_type": "display_data"
    }
   ],
   "source": [
    "plt.figure(figsize=(15, 10))\n",
    "plt.title('Time decaying sample weights')\n",
    "time_based_sample_weights.plot()\n",
    "plt.show()"
   ]
  },
  {
   "cell_type": "markdown",
   "metadata": {},
   "source": [
    "# Feature Research, Cross Validation"
   ]
  },
  {
   "cell_type": "code",
   "execution_count": 227,
   "metadata": {},
   "outputs": [],
   "source": [
    "parameters = {'max_depth':[2, 3, 4, 5, 7],\n",
    "              'n_estimators':[10, 25, 50, 100, 256, 512]}"
   ]
  },
  {
   "cell_type": "code",
   "execution_count": 232,
   "metadata": {},
   "outputs": [],
   "source": [
    "cv_gen_standard = KFold(4)\n",
    "cv_gen_purged = ml.cross_validation.PurgedKFold(n_splits=4, \n",
    "                                                samples_info_sets=triple_barrier_events.loc[X_train.index].t1)\n",
    "\n",
    "# metrics\n",
    "f1 = f1_score"
   ]
  },
  {
   "cell_type": "code",
   "execution_count": 233,
   "metadata": {},
   "outputs": [],
   "source": [
    "def perform_grid_search(X_data, y_data, cv_gen, scoring, type='standard'):\n",
    "    \"\"\"\n",
    "    Grid search using Purged CV without using sample weights in fit(). Returns top model and top score\n",
    "    \"\"\"\n",
    "    max_cross_val_score = -np.inf\n",
    "    top_model = None\n",
    "    for m_depth in parameters['max_depth']:\n",
    "        for n_est in parameters['n_estimators']:\n",
    "            clf_base = DecisionTreeClassifier(criterion='entropy', random_state=42, \n",
    "                                              max_depth=m_depth, class_weight='balanced')\n",
    "            if type == 'standard':\n",
    "                clf = BaggingClassifier(n_estimators=n_est, \n",
    "                                        base_estimator=clf_base, \n",
    "                                        random_state=42, n_jobs=-1, \n",
    "                                        oob_score=False, max_features=1.)\n",
    "            elif type == 'random_forest':\n",
    "                clf = RandomForestClassifier(n_estimators=n_est, \n",
    "                                             max_depth=m_depth, \n",
    "                                             random_state=42, \n",
    "                                             n_jobs=-1, \n",
    "                                             oob_score=False, \n",
    "                                            criterion='entropy',\n",
    "                                            class_weight='balanced_subsample', \n",
    "                                            max_features=1.)\n",
    "            elif type == 'sequential_bootstrapping':\n",
    "                clf = SequentiallyBootstrappedBaggingClassifier(samples_info_sets=triple_barrier_events.loc[X_train.index].t1,\n",
    "                                                                price_bars = data.loc[X_train.index.min():X_train.index.max(), 'close'],\n",
    "                                                                n_estimators=n_est, base_estimator=clf_base, \n",
    "                                                                random_state=42, n_jobs=-1, oob_score=False,\n",
    "                                                                max_features=1.)\n",
    "            temp_score_base = ml.cross_validation.ml_cross_val_score(clf, X_train, y_train, cv_gen, scoring=scoring)\n",
    "            if temp_score_base.mean() > max_cross_val_score:\n",
    "                max_cross_val_score = temp_score_base.mean()\n",
    "                print(temp_score_base.mean())\n",
    "                top_model = clf\n",
    "    return top_model, max_cross_val_score"
   ]
  },
  {
   "cell_type": "code",
   "execution_count": 234,
   "metadata": {},
   "outputs": [
    {
     "name": "stdout",
     "output_type": "stream",
     "text": [
      "0.5869150231132674\n",
      "0.5924325746095239\n",
      "0.6009604079498968\n",
      "0.6071043248350029\n",
      "0.6218027659905769\n",
      "0.6404902689275178\n",
      "0.6630812065467433\n",
      "0.6641116635070151\n"
     ]
    }
   ],
   "source": [
    "top_model, cross_val_score = perform_grid_search(X_train, y_train, cv_gen_purged, f1, type = 'standard')\n"
   ]
  },
  {
   "cell_type": "code",
   "execution_count": 235,
   "metadata": {},
   "outputs": [],
   "source": [
    "def perform_grid_search_sample_weights(X_data, y_data, cv_gen, scoring, type='standard'):\n",
    "    \"\"\"\n",
    "    Grid search using Purged CV using sample weights in fit(). Returns top model and top score\n",
    "    \"\"\"\n",
    "    max_cross_val_score = -np.inf\n",
    "    top_model = None\n",
    "    for m_depth in parameters['max_depth']:\n",
    "        for n_est in parameters['n_estimators']:\n",
    "            clf_base = DecisionTreeClassifier(criterion='entropy', random_state=42, \n",
    "                                              max_depth=m_depth, class_weight='balanced')\n",
    "            if type == 'standard':\n",
    "                clf = BaggingClassifier(n_estimators=n_est, \n",
    "                                        base_estimator=clf_base, \n",
    "                                        random_state=42, n_jobs=-1, \n",
    "                                        oob_score=False, max_features=1.)\n",
    "            elif type == 'random_forest':\n",
    "                clf = RandomForestClassifier(n_estimators=n_est, \n",
    "                                             max_depth=m_depth, \n",
    "                                             random_state=42, \n",
    "                                             n_jobs=-1, \n",
    "                                             oob_score=False, \n",
    "                                            criterion='entropy',\n",
    "                                            class_weight='balanced_subsample', \n",
    "                                            max_features=1.)\n",
    "            elif type == 'sequential_bootstrapping':\n",
    "                clf = SequentiallyBootstrappedBaggingClassifier(samples_info_sets=triple_barrier_events.loc[X_train.index].t1,\n",
    "                                                                price_bars = data.loc[X_train.index.min():X_train.index.max(), 'close'],\n",
    "                                                                n_estimators=n_est, base_estimator=clf_base, \n",
    "                                                                random_state=42, n_jobs=-1, oob_score=False,\n",
    "                                                                max_features=1.)\n",
    "            temp_score_base = ml.cross_validation.ml_cross_val_score(clf, X_train, y_train, cv_gen, scoring=scoring,\n",
    "                                                                    sample_weight=return_based_sample_weights.values)\n",
    "            if temp_score_base.mean() > max_cross_val_score:\n",
    "                max_cross_val_score = temp_score_base.mean()\n",
    "                print(temp_score_base.mean())\n",
    "                top_model = clf\n",
    "    return top_model, max_cross_val_score"
   ]
  },
  {
   "cell_type": "code",
   "execution_count": 236,
   "metadata": {},
   "outputs": [
    {
     "name": "stdout",
     "output_type": "stream",
     "text": [
      "0.384141128159155\n"
     ]
    },
    {
     "name": "stderr",
     "output_type": "stream",
     "text": [
      "c:\\users\\tomclg\\appdata\\local\\programs\\python\\python37-32\\lib\\site-packages\\sklearn\\metrics\\classification.py:1437: UndefinedMetricWarning: F-score is ill-defined and being set to 0.0 due to no predicted samples.\n",
      "  'precision', 'predicted', average, warn_for)\n",
      "c:\\users\\tomclg\\appdata\\local\\programs\\python\\python37-32\\lib\\site-packages\\sklearn\\metrics\\classification.py:1437: UndefinedMetricWarning: F-score is ill-defined and being set to 0.0 due to no predicted samples.\n",
      "  'precision', 'predicted', average, warn_for)\n",
      "c:\\users\\tomclg\\appdata\\local\\programs\\python\\python37-32\\lib\\site-packages\\sklearn\\metrics\\classification.py:1437: UndefinedMetricWarning: F-score is ill-defined and being set to 0.0 due to no predicted samples.\n",
      "  'precision', 'predicted', average, warn_for)\n",
      "c:\\users\\tomclg\\appdata\\local\\programs\\python\\python37-32\\lib\\site-packages\\sklearn\\metrics\\classification.py:1437: UndefinedMetricWarning: F-score is ill-defined and being set to 0.0 due to no predicted samples.\n",
      "  'precision', 'predicted', average, warn_for)\n",
      "c:\\users\\tomclg\\appdata\\local\\programs\\python\\python37-32\\lib\\site-packages\\sklearn\\metrics\\classification.py:1437: UndefinedMetricWarning: F-score is ill-defined and being set to 0.0 due to no predicted samples.\n",
      "  'precision', 'predicted', average, warn_for)\n"
     ]
    },
    {
     "name": "stdout",
     "output_type": "stream",
     "text": [
      "0.4540115685977567\n",
      "0.5406319672704711\n",
      "0.6023790556005897\n"
     ]
    }
   ],
   "source": [
    "\n",
    "top_model, cross_val_score = perform_grid_search_sample_weights(X_train, y_train, cv_gen_purged, f1, type = 'standard')"
   ]
  },
  {
   "cell_type": "code",
   "execution_count": 237,
   "metadata": {},
   "outputs": [
    {
     "data": {
      "text/plain": [
       "BaggingClassifier(base_estimator=DecisionTreeClassifier(class_weight='balanced',\n",
       "                                                        criterion='entropy',\n",
       "                                                        max_depth=7,\n",
       "                                                        max_features=None,\n",
       "                                                        max_leaf_nodes=None,\n",
       "                                                        min_impurity_decrease=0.0,\n",
       "                                                        min_impurity_split=None,\n",
       "                                                        min_samples_leaf=1,\n",
       "                                                        min_samples_split=2,\n",
       "                                                        min_weight_fraction_leaf=0.0,\n",
       "                                                        presort=False,\n",
       "                                                        random_state=42,\n",
       "                                                        splitter='best'),\n",
       "                  bootstrap=True, bootstrap_features=False, max_features=1.0,\n",
       "                  max_samples=1.0, n_estimators=10, n_jobs=-1, oob_score=False,\n",
       "                  random_state=42, verbose=0, warm_start=False)"
      ]
     },
     "execution_count": 237,
     "metadata": {},
     "output_type": "execute_result"
    }
   ],
   "source": [
    "top_model"
   ]
  },
  {
   "cell_type": "code",
   "execution_count": null,
   "metadata": {},
   "outputs": [],
   "source": []
  }
 ],
 "metadata": {
  "kernelspec": {
   "display_name": "Python 3",
   "language": "python",
   "name": "python3"
  },
  "language_info": {
   "codemirror_mode": {
    "name": "ipython",
    "version": 3
   },
   "file_extension": ".py",
   "mimetype": "text/x-python",
   "name": "python",
   "nbconvert_exporter": "python",
   "pygments_lexer": "ipython3",
   "version": "3.7.4"
  }
 },
 "nbformat": 4,
 "nbformat_minor": 4
}
