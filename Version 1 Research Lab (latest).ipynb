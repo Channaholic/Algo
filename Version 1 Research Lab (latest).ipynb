{
 "cells": [
  {
   "cell_type": "code",
   "execution_count": 1,
   "metadata": {},
   "outputs": [
    {
     "name": "stdout",
     "output_type": "stream",
     "text": [
      "\n",
      "\n",
      "Support us on Patreon: https://www.patreon.com/HudsonThames\n",
      "\n",
      "MlFinLab needs you! We need your help for us to keep on maintaining and implementing academic research based on \n",
      "financial machine learning (for open-source). In order for us to continue we need to raise $4000 of monthly donations\n",
      "via Patreon - by December 2020. If we can't reach our goal, we will need to adopt more of a paid for service. We thought\n",
      "that the best and least impactful course of action (should we not reach our goal) is to leave the package as open-source\n",
      "but to make the documentation (ReadTheDocs) a paid for service. This is the ultimate litmus test, if the package is a \n",
      "value add, then we need the community to help us keep it going.\n",
      "\n",
      "Our road map for 2020 is to implement the text book: Machine Learning for Asset Managers by Marcos Lopez de Prado, \n",
      "as well as a few papers from the Journal of Financial Data Science. We are hiring a full time developer for 3 months \n",
      "to help us reach our goals. The money that you, our sponsors, contribute will go directly to paying salaries and other \n",
      "expenses such as journal subscriptions and data. \n",
      "\n",
      "We need your help to continue maintaining and developing this community. Thank you for using our package and we \n",
      "invite you to join our slack channel using the following link:\n",
      "https://join.slack.com/t/mlfinlab/shared_invite/zt-c62u9gpz-VFc13j6da~UVg3DkV7~RjQ\n",
      "\n",
      "\n",
      "\n"
     ]
    }
   ],
   "source": [
    "import numpy as np\n",
    "import pandas as pd\n",
    "#import pyfolio as pf\n",
    "import timeit\n",
    "\n",
    "from sklearn.ensemble import RandomForestClassifier, BaggingClassifier\n",
    "from sklearn.tree import DecisionTreeClassifier\n",
    "from sklearn.model_selection import train_test_split\n",
    "from sklearn.metrics import roc_curve, classification_report, confusion_matrix, accuracy_score\n",
    "from sklearn.utils import resample\n",
    "from sklearn.utils import shuffle\n",
    "\n",
    "from sklearn.model_selection import cross_val_score\n",
    "from sklearn.model_selection import GridSearchCV, KFold, StratifiedKFold\n",
    "from mlfinlab.ensemble import SequentiallyBootstrappedBaggingClassifier\n",
    "from mlfinlab.sample_weights import get_weights_by_return, get_weights_by_time_decay\n",
    "from mlfinlab.features.fracdiff import frac_diff_ffd\n",
    "from mlfinlab.feature_importance.orthogonal import get_orthogonal_features, feature_pca_analysis\n",
    "from mlfinlab.feature_importance import (mean_decrease_impurity, \n",
    "                                        mean_decrease_accuracy, \n",
    "                                        single_feature_importance, plot_feature_importance)\n",
    "\n",
    "\n",
    "import matplotlib.pyplot as plt\n",
    "\n",
    "import ta\n",
    "\n",
    "from sklearn.metrics import f1_score\n",
    "\n",
    "import mlfinlab as ml\n",
    "%matplotlib inline"
   ]
  },
  {
   "cell_type": "markdown",
   "metadata": {},
   "source": [
    "# Import Data"
   ]
  },
  {
   "cell_type": "code",
   "execution_count": 2,
   "metadata": {},
   "outputs": [],
   "source": [
    "data = pd.read_csv(\"Volume_Clean/BTCUSD_volumebars_1000_timestamp.csv\")\n",
    "# Define TimeFrame\n",
    "data = data[(pd.to_datetime(data['timestamp'], errors='coerce').dt.year >= 2015) & (pd.to_datetime(data['timestamp'], errors='coerce').dt.year <= 2019)]\n",
    "data = data.dropna()\n",
    "data = data.reset_index(drop=True)\n",
    "data.index = pd.to_datetime(data['timestamp'])\n",
    "data = data.drop('timestamp', axis=1)\n",
    "data\n",
    "data = data.dropna()"
   ]
  },
  {
   "cell_type": "markdown",
   "metadata": {},
   "source": [
    "# Make Stationary"
   ]
  },
  {
   "cell_type": "code",
   "execution_count": 3,
   "metadata": {},
   "outputs": [
    {
     "data": {
      "text/html": [
       "<div>\n",
       "<style scoped>\n",
       "    .dataframe tbody tr th:only-of-type {\n",
       "        vertical-align: middle;\n",
       "    }\n",
       "\n",
       "    .dataframe tbody tr th {\n",
       "        vertical-align: top;\n",
       "    }\n",
       "\n",
       "    .dataframe thead th {\n",
       "        text-align: right;\n",
       "    }\n",
       "</style>\n",
       "<table border=\"1\" class=\"dataframe\">\n",
       "  <thead>\n",
       "    <tr style=\"text-align: right;\">\n",
       "      <th></th>\n",
       "      <th>open</th>\n",
       "      <th>high</th>\n",
       "      <th>low</th>\n",
       "      <th>close</th>\n",
       "      <th>volume</th>\n",
       "      <th>Adj Close_log</th>\n",
       "      <th>frac_diff</th>\n",
       "    </tr>\n",
       "    <tr>\n",
       "      <th>timestamp</th>\n",
       "      <th></th>\n",
       "      <th></th>\n",
       "      <th></th>\n",
       "      <th></th>\n",
       "      <th></th>\n",
       "      <th></th>\n",
       "      <th></th>\n",
       "    </tr>\n",
       "  </thead>\n",
       "  <tbody>\n",
       "    <tr>\n",
       "      <th>2015-01-05 02:00:37.000004</th>\n",
       "      <td>271.990000</td>\n",
       "      <td>273.500000</td>\n",
       "      <td>269.92</td>\n",
       "      <td>272.87</td>\n",
       "      <td>1004.036640</td>\n",
       "      <td>5.608995</td>\n",
       "      <td>0.140771</td>\n",
       "    </tr>\n",
       "    <tr>\n",
       "      <th>2015-01-05 02:04:19.000018</th>\n",
       "      <td>272.860000</td>\n",
       "      <td>278.000000</td>\n",
       "      <td>272.28</td>\n",
       "      <td>276.75</td>\n",
       "      <td>1009.833589</td>\n",
       "      <td>5.623115</td>\n",
       "      <td>0.150736</td>\n",
       "    </tr>\n",
       "    <tr>\n",
       "      <th>2015-01-05 02:11:13.000002</th>\n",
       "      <td>276.740000</td>\n",
       "      <td>278.000000</td>\n",
       "      <td>274.14</td>\n",
       "      <td>276.58</td>\n",
       "      <td>1007.179874</td>\n",
       "      <td>5.622500</td>\n",
       "      <td>0.140143</td>\n",
       "    </tr>\n",
       "    <tr>\n",
       "      <th>2015-01-05 02:21:33.000000</th>\n",
       "      <td>276.510000</td>\n",
       "      <td>278.000000</td>\n",
       "      <td>274.51</td>\n",
       "      <td>274.68</td>\n",
       "      <td>1000.216989</td>\n",
       "      <td>5.615607</td>\n",
       "      <td>0.131045</td>\n",
       "    </tr>\n",
       "    <tr>\n",
       "      <th>2015-01-05 02:33:44.000004</th>\n",
       "      <td>274.690000</td>\n",
       "      <td>277.400000</td>\n",
       "      <td>273.22</td>\n",
       "      <td>277.05</td>\n",
       "      <td>1000.577273</td>\n",
       "      <td>5.624198</td>\n",
       "      <td>0.142466</td>\n",
       "    </tr>\n",
       "    <tr>\n",
       "      <th>...</th>\n",
       "      <td>...</td>\n",
       "      <td>...</td>\n",
       "      <td>...</td>\n",
       "      <td>...</td>\n",
       "      <td>...</td>\n",
       "      <td>...</td>\n",
       "      <td>...</td>\n",
       "    </tr>\n",
       "    <tr>\n",
       "      <th>2019-09-23 06:33:32.372001</th>\n",
       "      <td>10067.000000</td>\n",
       "      <td>10098.000000</td>\n",
       "      <td>9887.10</td>\n",
       "      <td>9895.10</td>\n",
       "      <td>1000.407666</td>\n",
       "      <td>9.199795</td>\n",
       "      <td>0.197736</td>\n",
       "    </tr>\n",
       "    <tr>\n",
       "      <th>2019-09-23 14:24:29.992078</th>\n",
       "      <td>9900.000000</td>\n",
       "      <td>9990.887075</td>\n",
       "      <td>9810.00</td>\n",
       "      <td>9820.00</td>\n",
       "      <td>1004.581814</td>\n",
       "      <td>9.192176</td>\n",
       "      <td>0.199992</td>\n",
       "    </tr>\n",
       "    <tr>\n",
       "      <th>2019-09-23 14:56:14.924010</th>\n",
       "      <td>9820.000000</td>\n",
       "      <td>9980.000000</td>\n",
       "      <td>9712.00</td>\n",
       "      <td>9949.00</td>\n",
       "      <td>1000.565863</td>\n",
       "      <td>9.205227</td>\n",
       "      <td>0.219518</td>\n",
       "    </tr>\n",
       "    <tr>\n",
       "      <th>2019-09-23 21:03:55.160001</th>\n",
       "      <td>9950.181865</td>\n",
       "      <td>9977.000000</td>\n",
       "      <td>9750.00</td>\n",
       "      <td>9750.00</td>\n",
       "      <td>1000.914015</td>\n",
       "      <td>9.185023</td>\n",
       "      <td>0.193298</td>\n",
       "    </tr>\n",
       "    <tr>\n",
       "      <th>2019-09-23 22:24:06.574000</th>\n",
       "      <td>9750.000000</td>\n",
       "      <td>9835.900000</td>\n",
       "      <td>9650.00</td>\n",
       "      <td>9653.00</td>\n",
       "      <td>1000.053455</td>\n",
       "      <td>9.175024</td>\n",
       "      <td>0.194841</td>\n",
       "    </tr>\n",
       "  </tbody>\n",
       "</table>\n",
       "<p>46492 rows × 7 columns</p>\n",
       "</div>"
      ],
      "text/plain": [
       "                                    open          high      low    close  \\\n",
       "timestamp                                                                  \n",
       "2015-01-05 02:00:37.000004    271.990000    273.500000   269.92   272.87   \n",
       "2015-01-05 02:04:19.000018    272.860000    278.000000   272.28   276.75   \n",
       "2015-01-05 02:11:13.000002    276.740000    278.000000   274.14   276.58   \n",
       "2015-01-05 02:21:33.000000    276.510000    278.000000   274.51   274.68   \n",
       "2015-01-05 02:33:44.000004    274.690000    277.400000   273.22   277.05   \n",
       "...                                  ...           ...      ...      ...   \n",
       "2019-09-23 06:33:32.372001  10067.000000  10098.000000  9887.10  9895.10   \n",
       "2019-09-23 14:24:29.992078   9900.000000   9990.887075  9810.00  9820.00   \n",
       "2019-09-23 14:56:14.924010   9820.000000   9980.000000  9712.00  9949.00   \n",
       "2019-09-23 21:03:55.160001   9950.181865   9977.000000  9750.00  9750.00   \n",
       "2019-09-23 22:24:06.574000   9750.000000   9835.900000  9650.00  9653.00   \n",
       "\n",
       "                                 volume  Adj Close_log  frac_diff  \n",
       "timestamp                                                          \n",
       "2015-01-05 02:00:37.000004  1004.036640       5.608995   0.140771  \n",
       "2015-01-05 02:04:19.000018  1009.833589       5.623115   0.150736  \n",
       "2015-01-05 02:11:13.000002  1007.179874       5.622500   0.140143  \n",
       "2015-01-05 02:21:33.000000  1000.216989       5.615607   0.131045  \n",
       "2015-01-05 02:33:44.000004  1000.577273       5.624198   0.142466  \n",
       "...                                 ...            ...        ...  \n",
       "2019-09-23 06:33:32.372001  1000.407666       9.199795   0.197736  \n",
       "2019-09-23 14:24:29.992078  1004.581814       9.192176   0.199992  \n",
       "2019-09-23 14:56:14.924010  1000.565863       9.205227   0.219518  \n",
       "2019-09-23 21:03:55.160001  1000.914015       9.185023   0.193298  \n",
       "2019-09-23 22:24:06.574000  1000.053455       9.175024   0.194841  \n",
       "\n",
       "[46492 rows x 7 columns]"
      ]
     },
     "execution_count": 3,
     "metadata": {},
     "output_type": "execute_result"
    },
    {
     "data": {
      "image/png": "[encoded data removed]",
      "text/plain": [
       "<Figure size 432x288 with 1 Axes>"
      ]
     },
     "metadata": {
      "needs_background": "light"
     },
     "output_type": "display_data"
    }
   ],
   "source": [
    "\n",
    "data['Adj Close_log'] = np.log(data['close'])\n",
    "data['frac_diff'] = frac_diff_ffd(data[['Adj Close_log']], 0.6, thresh=1e-4)\n",
    "# data['Adj High_log'] = np.log(data['high'])\n",
    "# data['frac_diff_h'] = frac_diff_ffd(data[['Adj High_log']], 0.5, thresh=1e-3)\n",
    "# data['Adj Low_log'] = np.log(data['low'])\n",
    "# data['frac_diff_l'] = frac_diff_ffd(data[['Adj Low_log']], 0.5, thresh=1e-3)\n",
    "# data['Adj Open_log'] = np.log(data['open'])\n",
    "# data['frac_diff_o'] = frac_diff_ffd(data[['Adj Open_log']], 0.5, thresh=1e-3)\n",
    "\n",
    "data = data.dropna()\n",
    "data['frac_diff'].plot()\n",
    "data"
   ]
  },
  {
   "cell_type": "code",
   "execution_count": 4,
   "metadata": {},
   "outputs": [
    {
     "name": "stdout",
     "output_type": "stream",
     "text": [
      "Results of Dickey-Fuller Test:\n",
      "Test Statistic                    -2.841975\n",
      "p-value                            0.052524\n",
      "#Lags Used                        56.000000\n",
      "Number of Observations Used    46435.000000\n",
      "Critical Value (1%)               -3.430491\n",
      "Critical Value (5%)               -2.861602\n",
      "Critical Value (10%)              -2.566803\n",
      "dtype: float64\n"
     ]
    }
   ],
   "source": [
    "#define function for ADF test\n",
    "from statsmodels.tsa.stattools import adfuller\n",
    "def adf_test(timeseries):\n",
    "    #Perform Dickey-Fuller test:\n",
    "    print ('Results of Dickey-Fuller Test:')\n",
    "    dftest = adfuller(timeseries, autolag='AIC')\n",
    "    dfoutput = pd.Series(dftest[0:4], index=['Test Statistic','p-value','#Lags Used','Number of Observations Used'])\n",
    "    for key,value in dftest[4].items():\n",
    "       dfoutput['Critical Value (%s)'%key] = value\n",
    "    print (dfoutput)\n",
    "    \n",
    "adf_test(data['frac_diff'])"
   ]
  },
  {
   "cell_type": "markdown",
   "metadata": {},
   "source": [
    "# Add primary (dumb) signal; Change this part to edit primary model and run from here"
   ]
  },
  {
   "cell_type": "markdown",
   "metadata": {},
   "source": [
    "# #EMA"
   ]
  },
  {
   "cell_type": "code",
   "execution_count": 5,
   "metadata": {},
   "outputs": [],
   "source": [
    "data['ema25'] = ta.trend.ema_indicator(close=data[\"close\"], n=25)\n",
    "\n",
    "# Compute sides\n",
    "data['side'] = np.nan\n",
    "\n",
    "long_signals = data['close'] >= data['ema25'] \n",
    "short_signals = data['close'] < data['ema25']\n",
    "data.loc[long_signals, 'side'] = 1\n",
    "data.loc[short_signals, 'side'] = -1\n"
   ]
  },
  {
   "cell_type": "markdown",
   "metadata": {},
   "source": [
    "# MA crossover"
   ]
  },
  {
   "cell_type": "code",
   "execution_count": 6,
   "metadata": {},
   "outputs": [],
   "source": [
    "# # compute moving averages\n",
    "# fast_window = 10\n",
    "# slow_window = 20\n",
    "\n",
    "# data['fast_mavg'] = data['Adj Close_log'].rolling(window=fast_window, min_periods=fast_window, center=False).mean()\n",
    "# data['slow_mavg'] = data['Adj Close_log'].rolling(window=slow_window, min_periods=slow_window, center=False).mean()\n",
    "# data.head()\n",
    "\n",
    "# # Compute sides\n",
    "# data['side'] = np.nan\n",
    "\n",
    "# long_signals = data['fast_mavg'] >= data['slow_mavg'] \n",
    "# short_signals = data['fast_mavg'] < data['slow_mavg'] \n",
    "# data.loc[long_signals, 'side'] = 1\n",
    "# data.loc[short_signals, 'side'] = -1\n",
    "\n",
    "\n",
    "\n"
   ]
  },
  {
   "cell_type": "markdown",
   "metadata": {},
   "source": [
    "# Channel breakout"
   ]
  },
  {
   "cell_type": "code",
   "execution_count": 7,
   "metadata": {},
   "outputs": [],
   "source": [
    "# data['max'] = data['Adj Close_log'].shift(1).rolling(1).max()\n",
    "# data['min'] = data['Adj Close_log'].shift(1).rolling(1).min()\n",
    "# data['side'] = np.nan\n",
    "# long_signals = data['Adj Close_log'] >= data['max']\n",
    "# short_signals = data['Adj Close_log'] <= data['min']\n",
    "# data.loc[long_signals, 'side'] = 1\n",
    "# data.loc[short_signals, 'side'] = -1\n",
    "# data.fillna(method='ffill', inplace=True)"
   ]
  },
  {
   "cell_type": "markdown",
   "metadata": {},
   "source": [
    "---------------------------------------------------------------"
   ]
  },
  {
   "cell_type": "code",
   "execution_count": 8,
   "metadata": {},
   "outputs": [
    {
     "name": "stdout",
     "output_type": "stream",
     "text": [
      " 1.0    25229\n",
      "-1.0    21238\n",
      "Name: side, dtype: int64\n"
     ]
    }
   ],
   "source": [
    "# copy raw data\n",
    "raw_data = data.copy()\n",
    "\n",
    "data['side'] = data['side'].shift(1)\n",
    "data = data.dropna()\n",
    "print(data['side'].value_counts())"
   ]
  },
  {
   "cell_type": "code",
   "execution_count": 9,
   "metadata": {},
   "outputs": [
    {
     "data": {
      "text/html": [
       "<div>\n",
       "<style scoped>\n",
       "    .dataframe tbody tr th:only-of-type {\n",
       "        vertical-align: middle;\n",
       "    }\n",
       "\n",
       "    .dataframe tbody tr th {\n",
       "        vertical-align: top;\n",
       "    }\n",
       "\n",
       "    .dataframe thead th {\n",
       "        text-align: right;\n",
       "    }\n",
       "</style>\n",
       "<table border=\"1\" class=\"dataframe\">\n",
       "  <thead>\n",
       "    <tr style=\"text-align: right;\">\n",
       "      <th></th>\n",
       "      <th>open</th>\n",
       "      <th>high</th>\n",
       "      <th>low</th>\n",
       "      <th>close</th>\n",
       "      <th>volume</th>\n",
       "      <th>Adj Close_log</th>\n",
       "      <th>frac_diff</th>\n",
       "      <th>ema25</th>\n",
       "      <th>side</th>\n",
       "    </tr>\n",
       "    <tr>\n",
       "      <th>timestamp</th>\n",
       "      <th></th>\n",
       "      <th></th>\n",
       "      <th></th>\n",
       "      <th></th>\n",
       "      <th></th>\n",
       "      <th></th>\n",
       "      <th></th>\n",
       "      <th></th>\n",
       "      <th></th>\n",
       "    </tr>\n",
       "  </thead>\n",
       "  <tbody>\n",
       "    <tr>\n",
       "      <th>2015-01-05 16:03:53.000005</th>\n",
       "      <td>272.100000</td>\n",
       "      <td>272.930000</td>\n",
       "      <td>271.50</td>\n",
       "      <td>271.69</td>\n",
       "      <td>1004.990893</td>\n",
       "      <td>5.604662</td>\n",
       "      <td>0.126464</td>\n",
       "      <td>273.547018</td>\n",
       "      <td>-1.0</td>\n",
       "    </tr>\n",
       "    <tr>\n",
       "      <th>2015-01-05 17:19:17.000002</th>\n",
       "      <td>271.730000</td>\n",
       "      <td>273.750000</td>\n",
       "      <td>270.91</td>\n",
       "      <td>271.00</td>\n",
       "      <td>1004.826736</td>\n",
       "      <td>5.602119</td>\n",
       "      <td>0.126324</td>\n",
       "      <td>273.351094</td>\n",
       "      <td>-1.0</td>\n",
       "    </tr>\n",
       "    <tr>\n",
       "      <th>2015-01-05 17:30:18.000000</th>\n",
       "      <td>271.310000</td>\n",
       "      <td>271.910000</td>\n",
       "      <td>268.35</td>\n",
       "      <td>269.92</td>\n",
       "      <td>1000.568228</td>\n",
       "      <td>5.598126</td>\n",
       "      <td>0.124488</td>\n",
       "      <td>273.087163</td>\n",
       "      <td>-1.0</td>\n",
       "    </tr>\n",
       "    <tr>\n",
       "      <th>2015-01-05 17:50:55.000004</th>\n",
       "      <td>269.920000</td>\n",
       "      <td>269.990000</td>\n",
       "      <td>267.38</td>\n",
       "      <td>268.25</td>\n",
       "      <td>1001.699807</td>\n",
       "      <td>5.591919</td>\n",
       "      <td>0.121306</td>\n",
       "      <td>272.715074</td>\n",
       "      <td>-1.0</td>\n",
       "    </tr>\n",
       "    <tr>\n",
       "      <th>2015-01-05 17:54:21.000004</th>\n",
       "      <td>268.100000</td>\n",
       "      <td>268.760000</td>\n",
       "      <td>266.00</td>\n",
       "      <td>266.01</td>\n",
       "      <td>1281.015681</td>\n",
       "      <td>5.583534</td>\n",
       "      <td>0.117467</td>\n",
       "      <td>272.199299</td>\n",
       "      <td>-1.0</td>\n",
       "    </tr>\n",
       "    <tr>\n",
       "      <th>...</th>\n",
       "      <td>...</td>\n",
       "      <td>...</td>\n",
       "      <td>...</td>\n",
       "      <td>...</td>\n",
       "      <td>...</td>\n",
       "      <td>...</td>\n",
       "      <td>...</td>\n",
       "      <td>...</td>\n",
       "      <td>...</td>\n",
       "    </tr>\n",
       "    <tr>\n",
       "      <th>2019-09-23 06:33:32.372001</th>\n",
       "      <td>10067.000000</td>\n",
       "      <td>10098.000000</td>\n",
       "      <td>9887.10</td>\n",
       "      <td>9895.10</td>\n",
       "      <td>1000.407666</td>\n",
       "      <td>9.199795</td>\n",
       "      <td>0.197736</td>\n",
       "      <td>10091.019591</td>\n",
       "      <td>-1.0</td>\n",
       "    </tr>\n",
       "    <tr>\n",
       "      <th>2019-09-23 14:24:29.992078</th>\n",
       "      <td>9900.000000</td>\n",
       "      <td>9990.887075</td>\n",
       "      <td>9810.00</td>\n",
       "      <td>9820.00</td>\n",
       "      <td>1004.581814</td>\n",
       "      <td>9.192176</td>\n",
       "      <td>0.199992</td>\n",
       "      <td>10070.171930</td>\n",
       "      <td>-1.0</td>\n",
       "    </tr>\n",
       "    <tr>\n",
       "      <th>2019-09-23 14:56:14.924010</th>\n",
       "      <td>9820.000000</td>\n",
       "      <td>9980.000000</td>\n",
       "      <td>9712.00</td>\n",
       "      <td>9949.00</td>\n",
       "      <td>1000.565863</td>\n",
       "      <td>9.205227</td>\n",
       "      <td>0.219518</td>\n",
       "      <td>10060.851012</td>\n",
       "      <td>-1.0</td>\n",
       "    </tr>\n",
       "    <tr>\n",
       "      <th>2019-09-23 21:03:55.160001</th>\n",
       "      <td>9950.181865</td>\n",
       "      <td>9977.000000</td>\n",
       "      <td>9750.00</td>\n",
       "      <td>9750.00</td>\n",
       "      <td>1000.914015</td>\n",
       "      <td>9.185023</td>\n",
       "      <td>0.193298</td>\n",
       "      <td>10036.939396</td>\n",
       "      <td>-1.0</td>\n",
       "    </tr>\n",
       "    <tr>\n",
       "      <th>2019-09-23 22:24:06.574000</th>\n",
       "      <td>9750.000000</td>\n",
       "      <td>9835.900000</td>\n",
       "      <td>9650.00</td>\n",
       "      <td>9653.00</td>\n",
       "      <td>1000.053455</td>\n",
       "      <td>9.175024</td>\n",
       "      <td>0.194841</td>\n",
       "      <td>10007.405596</td>\n",
       "      <td>-1.0</td>\n",
       "    </tr>\n",
       "  </tbody>\n",
       "</table>\n",
       "<p>46467 rows × 9 columns</p>\n",
       "</div>"
      ],
      "text/plain": [
       "                                    open          high      low    close  \\\n",
       "timestamp                                                                  \n",
       "2015-01-05 16:03:53.000005    272.100000    272.930000   271.50   271.69   \n",
       "2015-01-05 17:19:17.000002    271.730000    273.750000   270.91   271.00   \n",
       "2015-01-05 17:30:18.000000    271.310000    271.910000   268.35   269.92   \n",
       "2015-01-05 17:50:55.000004    269.920000    269.990000   267.38   268.25   \n",
       "2015-01-05 17:54:21.000004    268.100000    268.760000   266.00   266.01   \n",
       "...                                  ...           ...      ...      ...   \n",
       "2019-09-23 06:33:32.372001  10067.000000  10098.000000  9887.10  9895.10   \n",
       "2019-09-23 14:24:29.992078   9900.000000   9990.887075  9810.00  9820.00   \n",
       "2019-09-23 14:56:14.924010   9820.000000   9980.000000  9712.00  9949.00   \n",
       "2019-09-23 21:03:55.160001   9950.181865   9977.000000  9750.00  9750.00   \n",
       "2019-09-23 22:24:06.574000   9750.000000   9835.900000  9650.00  9653.00   \n",
       "\n",
       "                                 volume  Adj Close_log  frac_diff  \\\n",
       "timestamp                                                           \n",
       "2015-01-05 16:03:53.000005  1004.990893       5.604662   0.126464   \n",
       "2015-01-05 17:19:17.000002  1004.826736       5.602119   0.126324   \n",
       "2015-01-05 17:30:18.000000  1000.568228       5.598126   0.124488   \n",
       "2015-01-05 17:50:55.000004  1001.699807       5.591919   0.121306   \n",
       "2015-01-05 17:54:21.000004  1281.015681       5.583534   0.117467   \n",
       "...                                 ...            ...        ...   \n",
       "2019-09-23 06:33:32.372001  1000.407666       9.199795   0.197736   \n",
       "2019-09-23 14:24:29.992078  1004.581814       9.192176   0.199992   \n",
       "2019-09-23 14:56:14.924010  1000.565863       9.205227   0.219518   \n",
       "2019-09-23 21:03:55.160001  1000.914015       9.185023   0.193298   \n",
       "2019-09-23 22:24:06.574000  1000.053455       9.175024   0.194841   \n",
       "\n",
       "                                   ema25  side  \n",
       "timestamp                                       \n",
       "2015-01-05 16:03:53.000005    273.547018  -1.0  \n",
       "2015-01-05 17:19:17.000002    273.351094  -1.0  \n",
       "2015-01-05 17:30:18.000000    273.087163  -1.0  \n",
       "2015-01-05 17:50:55.000004    272.715074  -1.0  \n",
       "2015-01-05 17:54:21.000004    272.199299  -1.0  \n",
       "...                                  ...   ...  \n",
       "2019-09-23 06:33:32.372001  10091.019591  -1.0  \n",
       "2019-09-23 14:24:29.992078  10070.171930  -1.0  \n",
       "2019-09-23 14:56:14.924010  10060.851012  -1.0  \n",
       "2019-09-23 21:03:55.160001  10036.939396  -1.0  \n",
       "2019-09-23 22:24:06.574000  10007.405596  -1.0  \n",
       "\n",
       "[46467 rows x 9 columns]"
      ]
     },
     "execution_count": 9,
     "metadata": {},
     "output_type": "execute_result"
    }
   ],
   "source": [
    "data"
   ]
  },
  {
   "cell_type": "markdown",
   "metadata": {},
   "source": [
    "# Cusum"
   ]
  },
  {
   "cell_type": "code",
   "execution_count": 10,
   "metadata": {},
   "outputs": [],
   "source": [
    "# Compute daily volatility\n",
    "daily_vol = ml.util.get_daily_vol(close=data['Adj Close_log'], lookback=20)\n",
    "\n",
    "# Apply Symmetric CUSUM Filter and get timestamps for events\n",
    "# Note: Only the CUSUM filter needs a point estimate for volatility\n",
    "cusum_events = ml.filters.cusum_filter(data['Adj Close_log'], threshold=daily_vol['2015-01-11':'2019-09-23'].mean()*0.5)\n",
    "\n",
    "# Compute vertical barrier\n",
    "vertical_barriers = ml.labeling.add_vertical_barrier(t_events=cusum_events, close=data['Adj Close_log'], num_days=5)\n"
   ]
  },
  {
   "cell_type": "code",
   "execution_count": 11,
   "metadata": {},
   "outputs": [
    {
     "name": "stderr",
     "output_type": "stream",
     "text": [
      "2020-04-03 10:46:28.204620 100.0% apply_pt_sl_on_t1 done after 0.34 minutes. Remaining 0.0 minutes..\n"
     ]
    }
   ],
   "source": [
    "pt_sl = [1, 2]\n",
    "min_ret = 0.005\n",
    "triple_barrier_events = ml.labeling.get_events(close=data['Adj Close_log'],\n",
    "                                               t_events=cusum_events,\n",
    "                                               pt_sl=pt_sl,\n",
    "                                               target=daily_vol,\n",
    "                                               min_ret=min_ret,\n",
    "                                               num_threads=3,\n",
    "                                               vertical_barrier_times=vertical_barriers,\n",
    "                                               side_prediction=data['side'])"
   ]
  },
  {
   "cell_type": "code",
   "execution_count": 12,
   "metadata": {},
   "outputs": [
    {
     "data": {
      "text/plain": [
       "-1.0    1073\n",
       " 1.0    1020\n",
       "Name: side, dtype: int64"
      ]
     },
     "execution_count": 12,
     "metadata": {},
     "output_type": "execute_result"
    }
   ],
   "source": [
    "labels = ml.labeling.get_bins(triple_barrier_events, data['close'])\n",
    "labels.side.value_counts()"
   ]
  },
  {
   "cell_type": "markdown",
   "metadata": {},
   "source": [
    "--------------------------------------------------------------"
   ]
  },
  {
   "cell_type": "markdown",
   "metadata": {},
   "source": [
    "\n",
    "## Results of Primary Model:\n",
    "What is the accuracy of predictions from the primary model (i.e., if the sec- ondary model does not filter the bets)? What are the precision, recall, and F1-scores?"
   ]
  },
  {
   "cell_type": "code",
   "execution_count": 13,
   "metadata": {},
   "outputs": [
    {
     "name": "stdout",
     "output_type": "stream",
     "text": [
      "              precision    recall  f1-score   support\n",
      "\n",
      "           0       0.00      0.00      0.00       765\n",
      "           1       0.63      1.00      0.78      1328\n",
      "\n",
      "    accuracy                           0.63      2093\n",
      "   macro avg       0.32      0.50      0.39      2093\n",
      "weighted avg       0.40      0.63      0.49      2093\n",
      "\n",
      "Confusion Matrix\n",
      "[[   0  765]\n",
      " [   0 1328]]\n",
      "\n",
      "Accuracy\n",
      "0.634495938843765\n"
     ]
    },
    {
     "name": "stderr",
     "output_type": "stream",
     "text": [
      "C:\\Users\\TomCLG\\anaconda3\\lib\\site-packages\\sklearn\\metrics\\classification.py:1437: UndefinedMetricWarning: Precision and F-score are ill-defined and being set to 0.0 in labels with no predicted samples.\n",
      "  'precision', 'predicted', average, warn_for)\n"
     ]
    }
   ],
   "source": [
    "primary_forecast = pd.DataFrame(labels['bin'])\n",
    "primary_forecast['pred'] = 1\n",
    "primary_forecast.columns = ['actual', 'pred']\n",
    "\n",
    "# Performance Metrics\n",
    "actual = primary_forecast['actual']\n",
    "pred = primary_forecast['pred']\n",
    "print(classification_report(y_true=actual, y_pred=pred))\n",
    "\n",
    "print(\"Confusion Matrix\")\n",
    "print(confusion_matrix(actual, pred))\n",
    "\n",
    "print('')\n",
    "print(\"Accuracy\")\n",
    "print(accuracy_score(actual, pred))"
   ]
  },
  {
   "cell_type": "markdown",
   "metadata": {},
   "source": [
    "# Fit a (secondary) Meta Model; to determine bet size respectively"
   ]
  },
  {
   "cell_type": "markdown",
   "metadata": {},
   "source": [
    "#### Features"
   ]
  },
  {
   "cell_type": "code",
   "execution_count": 14,
   "metadata": {},
   "outputs": [
    {
     "name": "stderr",
     "output_type": "stream",
     "text": [
      "C:\\Users\\TomCLG\\anaconda3\\lib\\site-packages\\ta\\trend.py:567: RuntimeWarning: invalid value encountered in double_scalars\n",
      "  dip[i] = 100 * (self._dip[i]/self._trs[i])\n",
      "C:\\Users\\TomCLG\\anaconda3\\lib\\site-packages\\ta\\trend.py:571: RuntimeWarning: invalid value encountered in double_scalars\n",
      "  din[i] = 100 * (self._din[i]/self._trs[i])\n"
     ]
    }
   ],
   "source": [
    "# Momentum\n",
    "raw_data['mom1'] = raw_data['frac_diff'].pct_change(periods=1)\n",
    "raw_data['mom2'] = raw_data['frac_diff'].pct_change(periods=2)\n",
    "raw_data['mom3'] = raw_data['frac_diff'].pct_change(periods=3)\n",
    "raw_data['mom4'] = raw_data['frac_diff'].pct_change(periods=4)\n",
    "raw_data['mom5'] = raw_data['frac_diff'].pct_change(periods=5)\n",
    "\n",
    "# Volatility\n",
    "raw_data['volatility_50'] = raw_data['frac_diff'].rolling(window=50, min_periods=50, center=False).std()\n",
    "raw_data['volatility_31'] = raw_data['frac_diff'].rolling(window=31, min_periods=31, center=False).std()\n",
    "raw_data['volatility_15'] = raw_data['frac_diff'].rolling(window=15, min_periods=15, center=False).std()\n",
    "\n",
    "# Serial Correlation (Takes about 4 minutes)\n",
    "window_autocorr = 50\n",
    "\n",
    "raw_data['autocorr_1'] = raw_data['frac_diff'].rolling(window=window_autocorr, min_periods=window_autocorr, center=False).apply(lambda x: x.autocorr(lag=1), raw=False)\n",
    "raw_data['autocorr_2'] = raw_data['frac_diff'].rolling(window=window_autocorr, min_periods=window_autocorr, center=False).apply(lambda x: x.autocorr(lag=2), raw=False)\n",
    "raw_data['autocorr_3'] = raw_data['frac_diff'].rolling(window=window_autocorr, min_periods=window_autocorr, center=False).apply(lambda x: x.autocorr(lag=3), raw=False)\n",
    "raw_data['autocorr_4'] = raw_data['frac_diff'].rolling(window=window_autocorr, min_periods=window_autocorr, center=False).apply(lambda x: x.autocorr(lag=4), raw=False)\n",
    "raw_data['autocorr_5'] = raw_data['frac_diff'].rolling(window=window_autocorr, min_periods=window_autocorr, center=False).apply(lambda x: x.autocorr(lag=5), raw=False)\n",
    "\n",
    "# Get the various log -t returns\n",
    "raw_data['log_t1'] = raw_data['frac_diff'].shift(1)\n",
    "raw_data['log_t2'] = raw_data['frac_diff'].shift(2)\n",
    "raw_data['log_t3'] = raw_data['frac_diff'].shift(3)\n",
    "raw_data['log_t4'] = raw_data['frac_diff'].shift(4)\n",
    "raw_data['log_t5'] = raw_data['frac_diff'].shift(5)\n",
    "\n",
    "# Get various indicators\n",
    "raw_data['adx'] = ta.trend.adx(high=raw_data['high'],low=raw_data['low'],close=raw_data[\"close\"])\n",
    "raw_data['ema14'] = ta.trend.ema_indicator(close=raw_data[\"frac_diff\"], n=14)\n",
    "raw_data['ema5'] = ta.trend.ema_indicator(close=raw_data[\"frac_diff\"], n=5)\n",
    "raw_data['ema30'] = ta.trend.ema_indicator(close=raw_data[\"frac_diff\"], n=30)\n",
    "raw_data['ema90'] = ta.trend.ema_indicator(close=raw_data[\"frac_diff\"], n=90)\n",
    "\n",
    "raw_data['kama'] = ta.momentum.kama(close=raw_data[\"frac_diff\"])\n",
    "raw_data['roc'] = ta.momentum.roc(close=raw_data[\"frac_diff\"])\n",
    "raw_data['atr'] = ta.volatility.average_true_range(high=raw_data['high'], low=raw_data['low'], close=raw_data['close'])\n",
    "\n",
    "raw_data['percent_change'] = raw_data['frac_diff'].pct_change(periods=1)\n",
    "raw_data['percent_change'] = raw_data['frac_diff'].pct_change(periods=5)\n",
    "raw_data['percent_change'] = raw_data['frac_diff'].pct_change(periods=10)\n",
    "raw_data['ma'] = np.where(raw_data['frac_diff'] > raw_data['frac_diff'].rolling(3).mean(), 1 , 0)\n",
    "raw_data['ma2'] = np.where(raw_data['frac_diff'] > raw_data['frac_diff'].rolling(13).mean(), 1 , 0)\n",
    "raw_data['ma3'] = np.where(raw_data['frac_diff'] > raw_data['frac_diff'].rolling(50).mean(), 1 , 0)\n",
    "raw_data['max'] = raw_data['frac_diff'].shift(1).rolling(5).max()\n",
    "raw_data['min'] = raw_data['frac_diff'].shift(1).rolling(5).min()\n",
    "raw_data['maxBreak'] = np.where(raw_data['frac_diff'] > raw_data['max'], 1 ,0)\n",
    "raw_data['minBreak'] = np.where(raw_data['frac_diff'] < raw_data['min'], 1 ,0)"
   ]
  },
  {
   "cell_type": "code",
   "execution_count": 15,
   "metadata": {},
   "outputs": [],
   "source": [
    "raw_data['ema25'] = ta.trend.ema_indicator(close=raw_data[\"close\"], n=25)\n",
    "\n",
    "# Compute sides\n",
    "raw_data['side'] = np.nan\n",
    "\n",
    "long_signals = raw_data['close'] >= raw_data['ema25'] \n",
    "short_signals = raw_data['close'] < raw_data['ema25']\n",
    "raw_data.loc[long_signals, 'side'] = 1\n",
    "raw_data.loc[short_signals, 'side'] = -1"
   ]
  },
  {
   "cell_type": "code",
   "execution_count": 16,
   "metadata": {},
   "outputs": [],
   "source": [
    "# Remove look ahead bias\n",
    "raw_data = raw_data.shift(1)\n",
    "raw_data.dropna(inplace=True)"
   ]
  },
  {
   "cell_type": "markdown",
   "metadata": {},
   "source": [
    "### Now get the data at the specified events"
   ]
  },
  {
   "cell_type": "code",
   "execution_count": 17,
   "metadata": {},
   "outputs": [
    {
     "data": {
      "text/html": [
       "<div>\n",
       "<style scoped>\n",
       "    .dataframe tbody tr th:only-of-type {\n",
       "        vertical-align: middle;\n",
       "    }\n",
       "\n",
       "    .dataframe tbody tr th {\n",
       "        vertical-align: top;\n",
       "    }\n",
       "\n",
       "    .dataframe thead th {\n",
       "        text-align: right;\n",
       "    }\n",
       "</style>\n",
       "<table border=\"1\" class=\"dataframe\">\n",
       "  <thead>\n",
       "    <tr style=\"text-align: right;\">\n",
       "      <th></th>\n",
       "      <th>open</th>\n",
       "      <th>high</th>\n",
       "      <th>low</th>\n",
       "      <th>close</th>\n",
       "      <th>volume</th>\n",
       "      <th>Adj Close_log</th>\n",
       "      <th>frac_diff</th>\n",
       "      <th>ema25</th>\n",
       "      <th>side</th>\n",
       "      <th>mom1</th>\n",
       "      <th>...</th>\n",
       "      <th>roc</th>\n",
       "      <th>atr</th>\n",
       "      <th>percent_change</th>\n",
       "      <th>ma</th>\n",
       "      <th>ma2</th>\n",
       "      <th>ma3</th>\n",
       "      <th>max</th>\n",
       "      <th>min</th>\n",
       "      <th>maxBreak</th>\n",
       "      <th>minBreak</th>\n",
       "    </tr>\n",
       "    <tr>\n",
       "      <th>timestamp</th>\n",
       "      <th></th>\n",
       "      <th></th>\n",
       "      <th></th>\n",
       "      <th></th>\n",
       "      <th></th>\n",
       "      <th></th>\n",
       "      <th></th>\n",
       "      <th></th>\n",
       "      <th></th>\n",
       "      <th></th>\n",
       "      <th></th>\n",
       "      <th></th>\n",
       "      <th></th>\n",
       "      <th></th>\n",
       "      <th></th>\n",
       "      <th></th>\n",
       "      <th></th>\n",
       "      <th></th>\n",
       "      <th></th>\n",
       "      <th></th>\n",
       "      <th></th>\n",
       "    </tr>\n",
       "  </thead>\n",
       "  <tbody>\n",
       "    <tr>\n",
       "      <th>2019-09-23 22:24:06.574</th>\n",
       "      <td>9950.181865</td>\n",
       "      <td>9977.0</td>\n",
       "      <td>9750.0</td>\n",
       "      <td>9750.0</td>\n",
       "      <td>1000.914015</td>\n",
       "      <td>9.185023</td>\n",
       "      <td>0.193298</td>\n",
       "      <td>10036.939396</td>\n",
       "      <td>-1.0</td>\n",
       "      <td>-0.119443</td>\n",
       "      <td>...</td>\n",
       "      <td>-11.848968</td>\n",
       "      <td>184.565318</td>\n",
       "      <td>-0.093099</td>\n",
       "      <td>0.0</td>\n",
       "      <td>0.0</td>\n",
       "      <td>0.0</td>\n",
       "      <td>0.221099</td>\n",
       "      <td>0.197736</td>\n",
       "      <td>0.0</td>\n",
       "      <td>1.0</td>\n",
       "    </tr>\n",
       "  </tbody>\n",
       "</table>\n",
       "<p>1 rows × 43 columns</p>\n",
       "</div>"
      ],
      "text/plain": [
       "                                open    high     low   close       volume  \\\n",
       "timestamp                                                                   \n",
       "2019-09-23 22:24:06.574  9950.181865  9977.0  9750.0  9750.0  1000.914015   \n",
       "\n",
       "                         Adj Close_log  frac_diff         ema25  side  \\\n",
       "timestamp                                                               \n",
       "2019-09-23 22:24:06.574       9.185023   0.193298  10036.939396  -1.0   \n",
       "\n",
       "                             mom1  ...        roc         atr  percent_change  \\\n",
       "timestamp                          ...                                          \n",
       "2019-09-23 22:24:06.574 -0.119443  ... -11.848968  184.565318       -0.093099   \n",
       "\n",
       "                          ma  ma2  ma3       max       min  maxBreak  minBreak  \n",
       "timestamp                                                                       \n",
       "2019-09-23 22:24:06.574  0.0  0.0  0.0  0.221099  0.197736       0.0       1.0  \n",
       "\n",
       "[1 rows x 43 columns]"
      ]
     },
     "execution_count": 17,
     "metadata": {},
     "output_type": "execute_result"
    }
   ],
   "source": [
    "raw_data.tail(1)"
   ]
  },
  {
   "cell_type": "code",
   "execution_count": 18,
   "metadata": {},
   "outputs": [],
   "source": [
    "# Get features at event dates\n",
    "X = raw_data.loc[labels.index, :]\n",
    "\n",
    "# Drop unwanted columns\n",
    "# X.drop(['open', 'high', 'low', 'close', 'cum_vol', 'cum_dollar', 'cum_ticks','fast_mavg', 'slow_mavg',], axis=1, inplace=True)\n",
    "\n",
    "y = labels['bin']"
   ]
  },
  {
   "cell_type": "code",
   "execution_count": 19,
   "metadata": {},
   "outputs": [
    {
     "data": {
      "text/plain": [
       "1    1328\n",
       "0     765\n",
       "Name: bin, dtype: int64"
      ]
     },
     "execution_count": 19,
     "metadata": {},
     "output_type": "execute_result"
    }
   ],
   "source": [
    "y.value_counts()\n"
   ]
  },
  {
   "cell_type": "code",
   "execution_count": 20,
   "metadata": {},
   "outputs": [],
   "source": [
    "# Split data into training, validation and test sets\n",
    "X_training_validation = X['2015-01-11':'2019-09-23']\n",
    "y_training_validation = y['2015-01-11':'2019-09-23']\n",
    "X_train, X_validate, y_train, y_validate = train_test_split(X_training_validation, y_training_validation, test_size=0.25, shuffle=False)"
   ]
  },
  {
   "cell_type": "markdown",
   "metadata": {},
   "source": [
    "## Sample Weights"
   ]
  },
  {
   "cell_type": "code",
   "execution_count": 21,
   "metadata": {},
   "outputs": [
    {
     "name": "stderr",
     "output_type": "stream",
     "text": [
      "2020-04-03 10:48:45.926082 100.0% num_concurrent_events done after 0.08 minutes. Remaining 0.0 minutes.\n",
      "2020-04-03 10:48:52.117504 100.0% _apply_weight_by_return done after 0.09 minutes. Remaining 0.0 minutes.\n",
      "2020-04-03 10:48:58.483829 100.0% num_concurrent_events done after 0.09 minutes. Remaining 0.0 minutes.\n",
      "2020-04-03 10:49:04.309006 100.0% _get_average_uniqueness done after 0.09 minutes. Remaining 0.0 minutes.\n"
     ]
    }
   ],
   "source": [
    "return_based_sample_weights = get_weights_by_return(triple_barrier_events.loc[X_train.index], data.loc[X_train.index, 'close'])\n",
    "time_based_sample_weights = get_weights_by_time_decay(triple_barrier_events.loc[X_train.index], data.loc[X_train.index, 'close'], decay=0.8)"
   ]
  },
  {
   "cell_type": "code",
   "execution_count": 22,
   "metadata": {},
   "outputs": [
    {
     "data": {
      "image/png": "[encoded data removed]",
      "text/plain": [
       "<Figure size 1440x720 with 1 Axes>"
      ]
     },
     "metadata": {
      "needs_background": "light"
     },
     "output_type": "display_data"
    }
   ],
   "source": [
    "plt.figure(figsize=(20,10))\n",
    "plt.title('Returns/Concurrency based sample weights')\n",
    "return_based_sample_weights.reset_index()[0].plot()\n",
    "plt.show()"
   ]
  },
  {
   "cell_type": "code",
   "execution_count": 23,
   "metadata": {},
   "outputs": [
    {
     "data": {
      "image/png": "[encoded data removed]",
      "text/plain": [
       "<Figure size 1080x720 with 1 Axes>"
      ]
     },
     "metadata": {
      "needs_background": "light"
     },
     "output_type": "display_data"
    }
   ],
   "source": [
    "plt.figure(figsize=(15, 10))\n",
    "plt.title('Time decaying sample weights')\n",
    "time_based_sample_weights.plot()\n",
    "plt.show()"
   ]
  },
  {
   "cell_type": "markdown",
   "metadata": {},
   "source": [
    "# Feature Research, Cross Validation"
   ]
  },
  {
   "cell_type": "code",
   "execution_count": 24,
   "metadata": {},
   "outputs": [],
   "source": [
    "parameters = {'max_depth':[2, 3, 4, 5, 7],\n",
    "              'n_estimators':[10, 25, 50, 100, 256, 512]}"
   ]
  },
  {
   "cell_type": "code",
   "execution_count": 25,
   "metadata": {},
   "outputs": [],
   "source": [
    "cv_gen_standard = KFold(4)\n",
    "cv_gen_purged = ml.cross_validation.PurgedKFold(n_splits=4, \n",
    "                                                samples_info_sets=triple_barrier_events.loc[X_train.index].t1)\n",
    "\n",
    "# metrics\n",
    "f1 = f1_score"
   ]
  },
  {
   "cell_type": "code",
   "execution_count": 26,
   "metadata": {},
   "outputs": [],
   "source": [
    "def perform_grid_search(X_data, y_data, cv_gen, scoring, type='standard'):\n",
    "    \"\"\"\n",
    "    Grid search using Purged CV without using sample weights in fit(). Returns top model and top score\n",
    "    \"\"\"\n",
    "    max_cross_val_score = -np.inf\n",
    "    top_model = None\n",
    "    for m_depth in parameters['max_depth']:\n",
    "        for n_est in parameters['n_estimators']:\n",
    "            clf_base = DecisionTreeClassifier(criterion='entropy', random_state=42, \n",
    "                                              max_depth=m_depth, class_weight='balanced')\n",
    "            if type == 'standard':\n",
    "                clf = BaggingClassifier(n_estimators=n_est, \n",
    "                                        base_estimator=clf_base, \n",
    "                                        random_state=42, n_jobs=-1, \n",
    "                                        oob_score=False, max_features=1.)\n",
    "            elif type == 'random_forest':\n",
    "                clf = RandomForestClassifier(n_estimators=n_est, \n",
    "                                             max_depth=m_depth, \n",
    "                                             random_state=42, \n",
    "                                             n_jobs=-1, \n",
    "                                             oob_score=False, \n",
    "                                            criterion='entropy',\n",
    "                                            class_weight='balanced_subsample', \n",
    "                                            max_features=1.)\n",
    "            elif type == 'sequential_bootstrapping':\n",
    "                clf = SequentiallyBootstrappedBaggingClassifier(samples_info_sets=triple_barrier_events.loc[X_train.index].t1,\n",
    "                                                                price_bars = data.loc[X_train.index.min():X_train.index.max(), 'close'],\n",
    "                                                                n_estimators=n_est, base_estimator=clf_base, \n",
    "                                                                random_state=42, n_jobs=-1, oob_score=False,\n",
    "                                                                max_features=1.)\n",
    "            temp_score_base = ml.cross_validation.ml_cross_val_score(clf, X_train, y_train, cv_gen, scoring=scoring)\n",
    "            if temp_score_base.mean() > max_cross_val_score:\n",
    "                max_cross_val_score = temp_score_base.mean()\n",
    "                print(temp_score_base.mean())\n",
    "                top_model = clf\n",
    "    return top_model, max_cross_val_score"
   ]
  },
  {
   "cell_type": "code",
   "execution_count": 27,
   "metadata": {},
   "outputs": [
    {
     "name": "stdout",
     "output_type": "stream",
     "text": [
      "0.5121731180162108\n",
      "0.5304167300159521\n",
      "0.5492801600785168\n",
      "0.5567013191895608\n",
      "0.5652134399143316\n",
      "0.5735736494518253\n"
     ]
    }
   ],
   "source": [
    "top_model, cross_val_score = perform_grid_search(X_train, y_train, cv_gen_purged, f1, type = 'standard')\n"
   ]
  },
  {
   "cell_type": "code",
   "execution_count": 28,
   "metadata": {},
   "outputs": [],
   "source": [
    "def perform_grid_search_sample_weights(X_data, y_data, cv_gen, scoring, type='standard'):\n",
    "    \"\"\"\n",
    "    Grid search using Purged CV using sample weights in fit(). Returns top model and top score\n",
    "    \"\"\"\n",
    "    max_cross_val_score = -np.inf\n",
    "    top_model = None\n",
    "    for m_depth in parameters['max_depth']:\n",
    "        for n_est in parameters['n_estimators']:\n",
    "            clf_base = DecisionTreeClassifier(criterion='entropy', random_state=42, \n",
    "                                              max_depth=m_depth, class_weight='balanced')\n",
    "            if type == 'standard':\n",
    "                clf = BaggingClassifier(n_estimators=n_est, \n",
    "                                        base_estimator=clf_base, \n",
    "                                        random_state=42, n_jobs=-1, \n",
    "                                        oob_score=False, max_features=1.)\n",
    "            elif type == 'random_forest':\n",
    "                clf = RandomForestClassifier(n_estimators=n_est, \n",
    "                                             max_depth=m_depth, \n",
    "                                             random_state=42, \n",
    "                                             n_jobs=-1, \n",
    "                                             oob_score=False, \n",
    "                                            criterion='entropy',\n",
    "                                            class_weight='balanced_subsample', \n",
    "                                            max_features=1.)\n",
    "            elif type == 'sequential_bootstrapping':\n",
    "                clf = SequentiallyBootstrappedBaggingClassifier(samples_info_sets=triple_barrier_events.loc[X_train.index].t1,\n",
    "                                                                price_bars = data.loc[X_train.index.min():X_train.index.max(), 'close'],\n",
    "                                                                n_estimators=n_est, base_estimator=clf_base, \n",
    "                                                                random_state=42, n_jobs=-1, oob_score=False,\n",
    "                                                                max_features=1.)\n",
    "            temp_score_base = ml.cross_validation.ml_cross_val_score(clf, X_train, y_train, cv_gen, scoring=scoring,\n",
    "                                                                    sample_weight=return_based_sample_weights.values)\n",
    "            if temp_score_base.mean() > max_cross_val_score:\n",
    "                max_cross_val_score = temp_score_base.mean()\n",
    "                print(temp_score_base.mean())\n",
    "                top_model = clf\n",
    "    return top_model, max_cross_val_score"
   ]
  },
  {
   "cell_type": "code",
   "execution_count": 29,
   "metadata": {},
   "outputs": [
    {
     "name": "stdout",
     "output_type": "stream",
     "text": [
      "0.2649452817370166\n"
     ]
    },
    {
     "name": "stderr",
     "output_type": "stream",
     "text": [
      "C:\\Users\\TomCLG\\anaconda3\\lib\\site-packages\\sklearn\\metrics\\classification.py:1437: UndefinedMetricWarning: F-score is ill-defined and being set to 0.0 due to no predicted samples.\n",
      "  'precision', 'predicted', average, warn_for)\n",
      "C:\\Users\\TomCLG\\anaconda3\\lib\\site-packages\\sklearn\\metrics\\classification.py:1437: UndefinedMetricWarning: F-score is ill-defined and being set to 0.0 due to no predicted samples.\n",
      "  'precision', 'predicted', average, warn_for)\n"
     ]
    },
    {
     "name": "stdout",
     "output_type": "stream",
     "text": [
      "0.271440642945884\n",
      "0.35753920232717523\n",
      "0.4405157567490916\n",
      "0.5849172919169179\n"
     ]
    }
   ],
   "source": [
    "\n",
    "top_model, cross_val_score = perform_grid_search_sample_weights(X_train, y_train, cv_gen_purged, f1, type = 'standard')"
   ]
  },
  {
   "cell_type": "code",
   "execution_count": 30,
   "metadata": {},
   "outputs": [
    {
     "data": {
      "text/plain": [
       "BaggingClassifier(base_estimator=DecisionTreeClassifier(class_weight='balanced',\n",
       "                                                        criterion='entropy',\n",
       "                                                        max_depth=7,\n",
       "                                                        max_features=None,\n",
       "                                                        max_leaf_nodes=None,\n",
       "                                                        min_impurity_decrease=0.0,\n",
       "                                                        min_impurity_split=None,\n",
       "                                                        min_samples_leaf=1,\n",
       "                                                        min_samples_split=2,\n",
       "                                                        min_weight_fraction_leaf=0.0,\n",
       "                                                        presort=False,\n",
       "                                                        random_state=42,\n",
       "                                                        splitter='best'),\n",
       "                  bootstrap=True, bootstrap_features=False, max_features=1.0,\n",
       "                  max_samples=1.0, n_estimators=10, n_jobs=-1, oob_score=False,\n",
       "                  random_state=42, verbose=0, warm_start=False)"
      ]
     },
     "execution_count": 30,
     "metadata": {},
     "output_type": "execute_result"
    }
   ],
   "source": [
    "top_model"
   ]
  },
  {
   "cell_type": "markdown",
   "metadata": {},
   "source": [
    "# Feature Importance"
   ]
  },
  {
   "cell_type": "markdown",
   "metadata": {},
   "source": [
    "### MDI, MDA, SFI feature importance\n"
   ]
  },
  {
   "cell_type": "code",
   "execution_count": 32,
   "metadata": {},
   "outputs": [
    {
     "name": "stderr",
     "output_type": "stream",
     "text": [
      "C:\\Users\\TomCLG\\anaconda3\\lib\\site-packages\\sklearn\\metrics\\classification.py:1437: UndefinedMetricWarning: F-score is ill-defined and being set to 0.0 due to no predicted samples.\n",
      "  'precision', 'predicted', average, warn_for)\n",
      "C:\\Users\\TomCLG\\anaconda3\\lib\\site-packages\\sklearn\\metrics\\classification.py:1437: UndefinedMetricWarning: F-score is ill-defined and being set to 0.0 due to no predicted samples.\n",
      "  'precision', 'predicted', average, warn_for)\n",
      "C:\\Users\\TomCLG\\anaconda3\\lib\\site-packages\\sklearn\\metrics\\classification.py:1437: UndefinedMetricWarning: F-score is ill-defined and being set to 0.0 due to no predicted samples.\n",
      "  'precision', 'predicted', average, warn_for)\n",
      "C:\\Users\\TomCLG\\anaconda3\\lib\\site-packages\\sklearn\\metrics\\classification.py:1437: UndefinedMetricWarning: F-score is ill-defined and being set to 0.0 due to no predicted samples.\n",
      "  'precision', 'predicted', average, warn_for)\n",
      "C:\\Users\\TomCLG\\anaconda3\\lib\\site-packages\\sklearn\\metrics\\classification.py:1437: UndefinedMetricWarning: F-score is ill-defined and being set to 0.0 due to no predicted samples.\n",
      "  'precision', 'predicted', average, warn_for)\n",
      "C:\\Users\\TomCLG\\anaconda3\\lib\\site-packages\\sklearn\\metrics\\classification.py:1437: UndefinedMetricWarning: F-score is ill-defined and being set to 0.0 due to no predicted samples.\n",
      "  'precision', 'predicted', average, warn_for)\n",
      "C:\\Users\\TomCLG\\anaconda3\\lib\\site-packages\\sklearn\\metrics\\classification.py:1437: UndefinedMetricWarning: F-score is ill-defined and being set to 0.0 due to no predicted samples.\n",
      "  'precision', 'predicted', average, warn_for)\n",
      "C:\\Users\\TomCLG\\anaconda3\\lib\\site-packages\\sklearn\\metrics\\classification.py:1437: UndefinedMetricWarning: F-score is ill-defined and being set to 0.0 due to no predicted samples.\n",
      "  'precision', 'predicted', average, warn_for)\n",
      "C:\\Users\\TomCLG\\anaconda3\\lib\\site-packages\\sklearn\\metrics\\classification.py:1437: UndefinedMetricWarning: F-score is ill-defined and being set to 0.0 due to no predicted samples.\n",
      "  'precision', 'predicted', average, warn_for)\n",
      "C:\\Users\\TomCLG\\anaconda3\\lib\\site-packages\\sklearn\\metrics\\classification.py:1437: UndefinedMetricWarning: F-score is ill-defined and being set to 0.0 due to no predicted samples.\n",
      "  'precision', 'predicted', average, warn_for)\n",
      "C:\\Users\\TomCLG\\anaconda3\\lib\\site-packages\\sklearn\\metrics\\classification.py:1437: UndefinedMetricWarning: F-score is ill-defined and being set to 0.0 due to no predicted samples.\n",
      "  'precision', 'predicted', average, warn_for)\n",
      "C:\\Users\\TomCLG\\anaconda3\\lib\\site-packages\\sklearn\\metrics\\classification.py:1437: UndefinedMetricWarning: F-score is ill-defined and being set to 0.0 due to no predicted samples.\n",
      "  'precision', 'predicted', average, warn_for)\n",
      "C:\\Users\\TomCLG\\anaconda3\\lib\\site-packages\\sklearn\\metrics\\classification.py:1437: UndefinedMetricWarning: F-score is ill-defined and being set to 0.0 due to no predicted samples.\n",
      "  'precision', 'predicted', average, warn_for)\n",
      "C:\\Users\\TomCLG\\anaconda3\\lib\\site-packages\\sklearn\\metrics\\classification.py:1437: UndefinedMetricWarning: F-score is ill-defined and being set to 0.0 due to no predicted samples.\n",
      "  'precision', 'predicted', average, warn_for)\n",
      "C:\\Users\\TomCLG\\anaconda3\\lib\\site-packages\\sklearn\\metrics\\classification.py:1437: UndefinedMetricWarning: F-score is ill-defined and being set to 0.0 due to no predicted samples.\n",
      "  'precision', 'predicted', average, warn_for)\n"
     ]
    }
   ],
   "source": [
    "mdi_feat_imp = mean_decrease_impurity(top_model, X_train.columns)\n",
    "mda_feat_imp = mean_decrease_accuracy(top_model, X_train, y_train, cv_gen_purged, scoring=f1, \n",
    "                                                         sample_weight=return_based_sample_weights.values)\n",
    "sfi_feat_imp = single_feature_importance(top_model, X_train, y_train, cv_gen_purged, scoring=f1,\n",
    "                                     sample_weight=return_based_sample_weights.values)"
   ]
  },
  {
   "cell_type": "code",
   "execution_count": 33,
   "metadata": {},
   "outputs": [
    {
     "data": {
      "image/png": "[encoded data removed]",
      "text/plain": [
       "<Figure size 720x619.2 with 1 Axes>"
      ]
     },
     "metadata": {
      "needs_background": "light"
     },
     "output_type": "display_data"
    }
   ],
   "source": [
    "plot_feature_importance(mdi_feat_imp, 0, 0)\n"
   ]
  },
  {
   "cell_type": "code",
   "execution_count": 34,
   "metadata": {},
   "outputs": [
    {
     "data": {
      "image/png": "[encoded data removed]",
      "text/plain": [
       "<Figure size 720x619.2 with 1 Axes>"
      ]
     },
     "metadata": {
      "needs_background": "light"
     },
     "output_type": "display_data"
    }
   ],
   "source": [
    "plot_feature_importance(mda_feat_imp, 0, 0)\n"
   ]
  },
  {
   "cell_type": "code",
   "execution_count": 80,
   "metadata": {},
   "outputs": [
    {
     "data": {
      "image/png": "[encoded data removed]",
      "text/plain": [
       "<Figure size 720x619.2 with 1 Axes>"
      ]
     },
     "metadata": {
      "needs_background": "light"
     },
     "output_type": "display_data"
    }
   ],
   "source": [
    "plot_feature_importance(sfi_feat_imp, 0, 0)"
   ]
  },
  {
   "cell_type": "markdown",
   "metadata": {},
   "source": [
    "# PCA Analysis\n",
    "### Compare top features above to PCA principals to determine which features are valid"
   ]
  },
  {
   "cell_type": "code",
   "execution_count": 81,
   "metadata": {},
   "outputs": [
    {
     "data": {
      "text/html": [
       "<div>\n",
       "<style scoped>\n",
       "    .dataframe tbody tr th:only-of-type {\n",
       "        vertical-align: middle;\n",
       "    }\n",
       "\n",
       "    .dataframe tbody tr th {\n",
       "        vertical-align: top;\n",
       "    }\n",
       "\n",
       "    .dataframe thead th {\n",
       "        text-align: right;\n",
       "    }\n",
       "</style>\n",
       "<table border=\"1\" class=\"dataframe\">\n",
       "  <thead>\n",
       "    <tr style=\"text-align: right;\">\n",
       "      <th></th>\n",
       "      <th>0</th>\n",
       "      <th>1</th>\n",
       "      <th>2</th>\n",
       "      <th>3</th>\n",
       "      <th>4</th>\n",
       "      <th>5</th>\n",
       "      <th>6</th>\n",
       "      <th>7</th>\n",
       "      <th>8</th>\n",
       "      <th>9</th>\n",
       "      <th>10</th>\n",
       "      <th>11</th>\n",
       "      <th>12</th>\n",
       "      <th>13</th>\n",
       "      <th>14</th>\n",
       "      <th>15</th>\n",
       "      <th>16</th>\n",
       "      <th>17</th>\n",
       "      <th>18</th>\n",
       "      <th>19</th>\n",
       "    </tr>\n",
       "  </thead>\n",
       "  <tbody>\n",
       "    <tr>\n",
       "      <th>0</th>\n",
       "      <td>-4.801268</td>\n",
       "      <td>0.545794</td>\n",
       "      <td>0.020624</td>\n",
       "      <td>-0.511404</td>\n",
       "      <td>2.243568</td>\n",
       "      <td>0.317506</td>\n",
       "      <td>-0.146785</td>\n",
       "      <td>-0.479313</td>\n",
       "      <td>0.582117</td>\n",
       "      <td>-0.102781</td>\n",
       "      <td>-0.750674</td>\n",
       "      <td>-0.234097</td>\n",
       "      <td>-0.370553</td>\n",
       "      <td>0.276792</td>\n",
       "      <td>-0.396463</td>\n",
       "      <td>-0.264922</td>\n",
       "      <td>-0.589951</td>\n",
       "      <td>-0.226661</td>\n",
       "      <td>-0.613049</td>\n",
       "      <td>-0.640108</td>\n",
       "    </tr>\n",
       "    <tr>\n",
       "      <th>1</th>\n",
       "      <td>-4.703011</td>\n",
       "      <td>-3.247772</td>\n",
       "      <td>0.551623</td>\n",
       "      <td>0.026440</td>\n",
       "      <td>2.275758</td>\n",
       "      <td>-0.249946</td>\n",
       "      <td>0.587747</td>\n",
       "      <td>-0.785030</td>\n",
       "      <td>-0.842295</td>\n",
       "      <td>-0.670656</td>\n",
       "      <td>0.894101</td>\n",
       "      <td>-0.086727</td>\n",
       "      <td>0.141123</td>\n",
       "      <td>-0.491401</td>\n",
       "      <td>0.734445</td>\n",
       "      <td>0.351705</td>\n",
       "      <td>0.137951</td>\n",
       "      <td>0.085417</td>\n",
       "      <td>0.136506</td>\n",
       "      <td>0.359127</td>\n",
       "    </tr>\n",
       "    <tr>\n",
       "      <th>2</th>\n",
       "      <td>-4.068398</td>\n",
       "      <td>-3.132442</td>\n",
       "      <td>0.373054</td>\n",
       "      <td>0.386087</td>\n",
       "      <td>1.806947</td>\n",
       "      <td>-0.424875</td>\n",
       "      <td>0.565800</td>\n",
       "      <td>-0.434311</td>\n",
       "      <td>-0.962250</td>\n",
       "      <td>-0.253482</td>\n",
       "      <td>1.037887</td>\n",
       "      <td>-0.333256</td>\n",
       "      <td>0.242202</td>\n",
       "      <td>-0.368732</td>\n",
       "      <td>-0.318567</td>\n",
       "      <td>-0.142836</td>\n",
       "      <td>-0.458445</td>\n",
       "      <td>-0.173926</td>\n",
       "      <td>-0.072662</td>\n",
       "      <td>0.376187</td>\n",
       "    </tr>\n",
       "    <tr>\n",
       "      <th>3</th>\n",
       "      <td>-4.025832</td>\n",
       "      <td>1.915497</td>\n",
       "      <td>0.344370</td>\n",
       "      <td>-0.371299</td>\n",
       "      <td>1.057951</td>\n",
       "      <td>-0.008088</td>\n",
       "      <td>0.071329</td>\n",
       "      <td>0.495460</td>\n",
       "      <td>0.905640</td>\n",
       "      <td>0.123843</td>\n",
       "      <td>-0.330020</td>\n",
       "      <td>0.273333</td>\n",
       "      <td>0.384816</td>\n",
       "      <td>0.008103</td>\n",
       "      <td>0.590318</td>\n",
       "      <td>-0.027267</td>\n",
       "      <td>0.746598</td>\n",
       "      <td>-1.039261</td>\n",
       "      <td>0.186255</td>\n",
       "      <td>0.534024</td>\n",
       "    </tr>\n",
       "    <tr>\n",
       "      <th>4</th>\n",
       "      <td>-3.699964</td>\n",
       "      <td>0.128499</td>\n",
       "      <td>0.087436</td>\n",
       "      <td>0.383413</td>\n",
       "      <td>0.053023</td>\n",
       "      <td>0.397316</td>\n",
       "      <td>2.950712</td>\n",
       "      <td>6.981779</td>\n",
       "      <td>1.383772</td>\n",
       "      <td>-1.323215</td>\n",
       "      <td>-1.682886</td>\n",
       "      <td>-3.264457</td>\n",
       "      <td>0.859572</td>\n",
       "      <td>-0.392404</td>\n",
       "      <td>-0.178373</td>\n",
       "      <td>1.374027</td>\n",
       "      <td>0.337251</td>\n",
       "      <td>-0.353917</td>\n",
       "      <td>1.550783</td>\n",
       "      <td>0.437032</td>\n",
       "    </tr>\n",
       "    <tr>\n",
       "      <th>...</th>\n",
       "      <td>...</td>\n",
       "      <td>...</td>\n",
       "      <td>...</td>\n",
       "      <td>...</td>\n",
       "      <td>...</td>\n",
       "      <td>...</td>\n",
       "      <td>...</td>\n",
       "      <td>...</td>\n",
       "      <td>...</td>\n",
       "      <td>...</td>\n",
       "      <td>...</td>\n",
       "      <td>...</td>\n",
       "      <td>...</td>\n",
       "      <td>...</td>\n",
       "      <td>...</td>\n",
       "      <td>...</td>\n",
       "      <td>...</td>\n",
       "      <td>...</td>\n",
       "      <td>...</td>\n",
       "      <td>...</td>\n",
       "    </tr>\n",
       "    <tr>\n",
       "      <th>1563</th>\n",
       "      <td>16.398720</td>\n",
       "      <td>1.782258</td>\n",
       "      <td>0.767294</td>\n",
       "      <td>-2.325854</td>\n",
       "      <td>4.031328</td>\n",
       "      <td>-2.272452</td>\n",
       "      <td>3.251357</td>\n",
       "      <td>-0.078313</td>\n",
       "      <td>0.640276</td>\n",
       "      <td>0.220496</td>\n",
       "      <td>-1.363003</td>\n",
       "      <td>1.393525</td>\n",
       "      <td>-1.094700</td>\n",
       "      <td>0.327051</td>\n",
       "      <td>-0.209417</td>\n",
       "      <td>0.679081</td>\n",
       "      <td>0.141345</td>\n",
       "      <td>-0.298730</td>\n",
       "      <td>-1.085488</td>\n",
       "      <td>0.841300</td>\n",
       "    </tr>\n",
       "    <tr>\n",
       "      <th>1564</th>\n",
       "      <td>16.088187</td>\n",
       "      <td>2.777227</td>\n",
       "      <td>0.158965</td>\n",
       "      <td>-1.714020</td>\n",
       "      <td>4.031713</td>\n",
       "      <td>-2.318717</td>\n",
       "      <td>3.236571</td>\n",
       "      <td>0.099577</td>\n",
       "      <td>0.202808</td>\n",
       "      <td>-1.222831</td>\n",
       "      <td>-0.568960</td>\n",
       "      <td>1.950931</td>\n",
       "      <td>-2.036386</td>\n",
       "      <td>-0.448936</td>\n",
       "      <td>-0.178142</td>\n",
       "      <td>0.329872</td>\n",
       "      <td>-0.017685</td>\n",
       "      <td>0.226878</td>\n",
       "      <td>-0.200621</td>\n",
       "      <td>0.025477</td>\n",
       "    </tr>\n",
       "    <tr>\n",
       "      <th>1565</th>\n",
       "      <td>16.083285</td>\n",
       "      <td>-0.528250</td>\n",
       "      <td>0.890779</td>\n",
       "      <td>-1.157632</td>\n",
       "      <td>4.275861</td>\n",
       "      <td>-0.687384</td>\n",
       "      <td>4.300742</td>\n",
       "      <td>-0.444930</td>\n",
       "      <td>0.874673</td>\n",
       "      <td>0.312800</td>\n",
       "      <td>-1.250649</td>\n",
       "      <td>1.326370</td>\n",
       "      <td>-1.361194</td>\n",
       "      <td>0.059635</td>\n",
       "      <td>-0.670213</td>\n",
       "      <td>0.315047</td>\n",
       "      <td>-0.201039</td>\n",
       "      <td>0.448144</td>\n",
       "      <td>0.371178</td>\n",
       "      <td>-0.206351</td>\n",
       "    </tr>\n",
       "    <tr>\n",
       "      <th>1566</th>\n",
       "      <td>15.904441</td>\n",
       "      <td>1.704132</td>\n",
       "      <td>-0.775178</td>\n",
       "      <td>0.049196</td>\n",
       "      <td>6.145739</td>\n",
       "      <td>-2.532100</td>\n",
       "      <td>3.067503</td>\n",
       "      <td>0.006414</td>\n",
       "      <td>0.808097</td>\n",
       "      <td>-0.073019</td>\n",
       "      <td>-1.312266</td>\n",
       "      <td>1.250652</td>\n",
       "      <td>-0.232376</td>\n",
       "      <td>0.010643</td>\n",
       "      <td>-0.780588</td>\n",
       "      <td>0.548909</td>\n",
       "      <td>1.057467</td>\n",
       "      <td>-0.580964</td>\n",
       "      <td>-0.257799</td>\n",
       "      <td>0.447076</td>\n",
       "    </tr>\n",
       "    <tr>\n",
       "      <th>1567</th>\n",
       "      <td>19.788565</td>\n",
       "      <td>1.226371</td>\n",
       "      <td>-2.120576</td>\n",
       "      <td>-5.643095</td>\n",
       "      <td>10.816792</td>\n",
       "      <td>-1.669601</td>\n",
       "      <td>6.746245</td>\n",
       "      <td>-0.966496</td>\n",
       "      <td>1.497998</td>\n",
       "      <td>0.158110</td>\n",
       "      <td>-2.092325</td>\n",
       "      <td>3.927042</td>\n",
       "      <td>-1.342838</td>\n",
       "      <td>-0.035115</td>\n",
       "      <td>-1.841134</td>\n",
       "      <td>1.869250</td>\n",
       "      <td>1.995488</td>\n",
       "      <td>-0.422720</td>\n",
       "      <td>0.557724</td>\n",
       "      <td>-0.489756</td>\n",
       "    </tr>\n",
       "  </tbody>\n",
       "</table>\n",
       "<p>1568 rows × 20 columns</p>\n",
       "</div>"
      ],
      "text/plain": [
       "              0         1         2         3          4         5         6  \\\n",
       "0     -4.801268  0.545794  0.020624 -0.511404   2.243568  0.317506 -0.146785   \n",
       "1     -4.703011 -3.247772  0.551623  0.026440   2.275758 -0.249946  0.587747   \n",
       "2     -4.068398 -3.132442  0.373054  0.386087   1.806947 -0.424875  0.565800   \n",
       "3     -4.025832  1.915497  0.344370 -0.371299   1.057951 -0.008088  0.071329   \n",
       "4     -3.699964  0.128499  0.087436  0.383413   0.053023  0.397316  2.950712   \n",
       "...         ...       ...       ...       ...        ...       ...       ...   \n",
       "1563  16.398720  1.782258  0.767294 -2.325854   4.031328 -2.272452  3.251357   \n",
       "1564  16.088187  2.777227  0.158965 -1.714020   4.031713 -2.318717  3.236571   \n",
       "1565  16.083285 -0.528250  0.890779 -1.157632   4.275861 -0.687384  4.300742   \n",
       "1566  15.904441  1.704132 -0.775178  0.049196   6.145739 -2.532100  3.067503   \n",
       "1567  19.788565  1.226371 -2.120576 -5.643095  10.816792 -1.669601  6.746245   \n",
       "\n",
       "             7         8         9        10        11        12        13  \\\n",
       "0    -0.479313  0.582117 -0.102781 -0.750674 -0.234097 -0.370553  0.276792   \n",
       "1    -0.785030 -0.842295 -0.670656  0.894101 -0.086727  0.141123 -0.491401   \n",
       "2    -0.434311 -0.962250 -0.253482  1.037887 -0.333256  0.242202 -0.368732   \n",
       "3     0.495460  0.905640  0.123843 -0.330020  0.273333  0.384816  0.008103   \n",
       "4     6.981779  1.383772 -1.323215 -1.682886 -3.264457  0.859572 -0.392404   \n",
       "...        ...       ...       ...       ...       ...       ...       ...   \n",
       "1563 -0.078313  0.640276  0.220496 -1.363003  1.393525 -1.094700  0.327051   \n",
       "1564  0.099577  0.202808 -1.222831 -0.568960  1.950931 -2.036386 -0.448936   \n",
       "1565 -0.444930  0.874673  0.312800 -1.250649  1.326370 -1.361194  0.059635   \n",
       "1566  0.006414  0.808097 -0.073019 -1.312266  1.250652 -0.232376  0.010643   \n",
       "1567 -0.966496  1.497998  0.158110 -2.092325  3.927042 -1.342838 -0.035115   \n",
       "\n",
       "            14        15        16        17        18        19  \n",
       "0    -0.396463 -0.264922 -0.589951 -0.226661 -0.613049 -0.640108  \n",
       "1     0.734445  0.351705  0.137951  0.085417  0.136506  0.359127  \n",
       "2    -0.318567 -0.142836 -0.458445 -0.173926 -0.072662  0.376187  \n",
       "3     0.590318 -0.027267  0.746598 -1.039261  0.186255  0.534024  \n",
       "4    -0.178373  1.374027  0.337251 -0.353917  1.550783  0.437032  \n",
       "...        ...       ...       ...       ...       ...       ...  \n",
       "1563 -0.209417  0.679081  0.141345 -0.298730 -1.085488  0.841300  \n",
       "1564 -0.178142  0.329872 -0.017685  0.226878 -0.200621  0.025477  \n",
       "1565 -0.670213  0.315047 -0.201039  0.448144  0.371178 -0.206351  \n",
       "1566 -0.780588  0.548909  1.057467 -0.580964 -0.257799  0.447076  \n",
       "1567 -1.841134  1.869250  1.995488 -0.422720  0.557724 -0.489756  \n",
       "\n",
       "[1568 rows x 20 columns]"
      ]
     },
     "execution_count": 81,
     "metadata": {},
     "output_type": "execute_result"
    }
   ],
   "source": [
    "pca_features = get_orthogonal_features(X_train)\n",
    "pca = pd.DataFrame(data=pca_features)\n",
    "pca"
   ]
  },
  {
   "cell_type": "code",
   "execution_count": 82,
   "metadata": {},
   "outputs": [],
   "source": [
    "mdi_feat_imp.fillna(0, inplace= True)\n",
    "\n",
    "correlation_dict_mdi = feature_pca_analysis(X_train, mdi_feat_imp)\n",
    "correlation_dict_mda = feature_pca_analysis(X_train, mda_feat_imp)\n",
    "correlation_dict_sfi = feature_pca_analysis(X_train, sfi_feat_imp)"
   ]
  },
  {
   "cell_type": "code",
   "execution_count": 83,
   "metadata": {},
   "outputs": [
    {
     "data": {
      "text/html": [
       "<div>\n",
       "<style scoped>\n",
       "    .dataframe tbody tr th:only-of-type {\n",
       "        vertical-align: middle;\n",
       "    }\n",
       "\n",
       "    .dataframe tbody tr th {\n",
       "        vertical-align: top;\n",
       "    }\n",
       "\n",
       "    .dataframe thead th {\n",
       "        text-align: right;\n",
       "    }\n",
       "</style>\n",
       "<table border=\"1\" class=\"dataframe\">\n",
       "  <thead>\n",
       "    <tr style=\"text-align: right;\">\n",
       "      <th></th>\n",
       "      <th>Pearson</th>\n",
       "      <th>Spearman</th>\n",
       "      <th>Kendall</th>\n",
       "      <th>Weighted_Kendall_Rank</th>\n",
       "    </tr>\n",
       "  </thead>\n",
       "  <tbody>\n",
       "    <tr>\n",
       "      <th>0</th>\n",
       "      <td>0.003244</td>\n",
       "      <td>-0.05465</td>\n",
       "      <td>-0.037966</td>\n",
       "      <td>0.18717</td>\n",
       "    </tr>\n",
       "    <tr>\n",
       "      <th>1</th>\n",
       "      <td>0.924314</td>\n",
       "      <td>0.10926</td>\n",
       "      <td>0.099396</td>\n",
       "      <td>NaN</td>\n",
       "    </tr>\n",
       "  </tbody>\n",
       "</table>\n",
       "</div>"
      ],
      "text/plain": [
       "    Pearson  Spearman   Kendall  Weighted_Kendall_Rank\n",
       "0  0.003244  -0.05465 -0.037966                0.18717\n",
       "1  0.924314   0.10926  0.099396                    NaN"
      ]
     },
     "execution_count": 83,
     "metadata": {},
     "output_type": "execute_result"
    }
   ],
   "source": [
    "pd.DataFrame(correlation_dict_mdi)\n"
   ]
  },
  {
   "cell_type": "code",
   "execution_count": 84,
   "metadata": {},
   "outputs": [
    {
     "data": {
      "text/html": [
       "<div>\n",
       "<style scoped>\n",
       "    .dataframe tbody tr th:only-of-type {\n",
       "        vertical-align: middle;\n",
       "    }\n",
       "\n",
       "    .dataframe tbody tr th {\n",
       "        vertical-align: top;\n",
       "    }\n",
       "\n",
       "    .dataframe thead th {\n",
       "        text-align: right;\n",
       "    }\n",
       "</style>\n",
       "<table border=\"1\" class=\"dataframe\">\n",
       "  <thead>\n",
       "    <tr style=\"text-align: right;\">\n",
       "      <th></th>\n",
       "      <th>Pearson</th>\n",
       "      <th>Spearman</th>\n",
       "      <th>Kendall</th>\n",
       "      <th>Weighted_Kendall_Rank</th>\n",
       "    </tr>\n",
       "  </thead>\n",
       "  <tbody>\n",
       "    <tr>\n",
       "      <th>0</th>\n",
       "      <td>-0.009577</td>\n",
       "      <td>0.036813</td>\n",
       "      <td>0.023787</td>\n",
       "      <td>0.052363</td>\n",
       "    </tr>\n",
       "    <tr>\n",
       "      <th>1</th>\n",
       "      <td>0.779142</td>\n",
       "      <td>0.280866</td>\n",
       "      <td>0.302375</td>\n",
       "      <td>NaN</td>\n",
       "    </tr>\n",
       "  </tbody>\n",
       "</table>\n",
       "</div>"
      ],
      "text/plain": [
       "    Pearson  Spearman   Kendall  Weighted_Kendall_Rank\n",
       "0 -0.009577  0.036813  0.023787               0.052363\n",
       "1  0.779142  0.280866  0.302375                    NaN"
      ]
     },
     "execution_count": 84,
     "metadata": {},
     "output_type": "execute_result"
    }
   ],
   "source": [
    "pd.DataFrame(correlation_dict_mda)\n"
   ]
  },
  {
   "cell_type": "code",
   "execution_count": 85,
   "metadata": {},
   "outputs": [
    {
     "data": {
      "text/html": [
       "<div>\n",
       "<style scoped>\n",
       "    .dataframe tbody tr th:only-of-type {\n",
       "        vertical-align: middle;\n",
       "    }\n",
       "\n",
       "    .dataframe tbody tr th {\n",
       "        vertical-align: top;\n",
       "    }\n",
       "\n",
       "    .dataframe thead th {\n",
       "        text-align: right;\n",
       "    }\n",
       "</style>\n",
       "<table border=\"1\" class=\"dataframe\">\n",
       "  <thead>\n",
       "    <tr style=\"text-align: right;\">\n",
       "      <th></th>\n",
       "      <th>Pearson</th>\n",
       "      <th>Spearman</th>\n",
       "      <th>Kendall</th>\n",
       "      <th>Weighted_Kendall_Rank</th>\n",
       "    </tr>\n",
       "  </thead>\n",
       "  <tbody>\n",
       "    <tr>\n",
       "      <th>0</th>\n",
       "      <td>-0.009053</td>\n",
       "      <td>0.036439</td>\n",
       "      <td>0.023481</td>\n",
       "      <td>0.055113</td>\n",
       "    </tr>\n",
       "    <tr>\n",
       "      <th>1</th>\n",
       "      <td>0.790938</td>\n",
       "      <td>0.285793</td>\n",
       "      <td>0.308152</td>\n",
       "      <td>NaN</td>\n",
       "    </tr>\n",
       "  </tbody>\n",
       "</table>\n",
       "</div>"
      ],
      "text/plain": [
       "    Pearson  Spearman   Kendall  Weighted_Kendall_Rank\n",
       "0 -0.009053  0.036439  0.023481               0.055113\n",
       "1  0.790938  0.285793  0.308152                    NaN"
      ]
     },
     "execution_count": 85,
     "metadata": {},
     "output_type": "execute_result"
    }
   ],
   "source": [
    "pd.DataFrame(correlation_dict_sfi)"
   ]
  },
  {
   "cell_type": "code",
   "execution_count": null,
   "metadata": {},
   "outputs": [],
   "source": []
  }
 ],
 "metadata": {
  "kernelspec": {
   "display_name": "Python 3",
   "language": "python",
   "name": "python3"
  },
  "language_info": {
   "codemirror_mode": {
    "name": "ipython",
    "version": 3
   },
   "file_extension": ".py",
   "mimetype": "text/x-python",
   "name": "python",
   "nbconvert_exporter": "python",
   "pygments_lexer": "ipython3",
   "version": "3.7.6"
  }
 },
 "nbformat": 4,
 "nbformat_minor": 4
}
